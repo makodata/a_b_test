{
 "cells": [
  {
   "cell_type": "markdown",
   "metadata": {},
   "source": [
    "## Тестирование гипотез для увеличения выручки"
   ]
  },
  {
   "cell_type": "markdown",
   "metadata": {},
   "source": [
    "Есть  список гипотез для увеличения выручки крупного интернет- магазина.\n",
    "Нужно приоритизировать гипотезы, запустить A/B-тест и проанализировать результаты. "
   ]
  },
  {
   "cell_type": "markdown",
   "metadata": {},
   "source": [
    "Данные для первой части\n",
    "\n",
    "- Файл /datasets/hypothesis.csv. \n",
    "- Hypothesis — краткое описание гипотезы;\n",
    "- Reach — охват пользователей по 10-балльной шкале;\n",
    "- Impact — влияние на пользователей по 10-балльной шкале;\n",
    "- Confidence — уверенность в гипотезе по 10-балльной шкале;\n",
    "- Efforts — затраты ресурсов на проверку гипотезы по 10-балльной шкале. Чем больше значение Efforts, тем дороже проверка гипотезы.\n",
    "\n",
    "\n",
    "Данные для второй части\n",
    "- Файл /datasets/orders.csv. \n",
    "- transactionId — идентификатор заказа;\n",
    "- visitorId — идентификатор пользователя, совершившего заказ;\n",
    "- date — дата, когда был совершён заказ;\n",
    "- revenue — выручка заказа;\n",
    "- group — группа A/B-теста, в которую попал заказ.\n",
    "- Файл /datasets/visitors.csv.\n",
    "- date — дата;\n",
    "- group — группа A/B-теста;\n",
    "- visitors — количество пользователей в указанную дату в указанной группе A/B-теста"
   ]
  },
  {
   "cell_type": "markdown",
   "metadata": {},
   "source": [
    "### 1 Часть. Приоритизация гипотез."
   ]
  },
  {
   "cell_type": "code",
   "execution_count": 63,
   "metadata": {},
   "outputs": [],
   "source": [
    "#Импорт библиотек\n",
    "import pandas as pd\n",
    "import numpy as np\n",
    "import matplotlib.pyplot as plt\n",
    "from datetime import datetime, timedelta\n",
    "import seaborn as sns\n",
    "\n",
    "from collections import Counter\n",
    "from scipy import stats as st\n",
    "import datetime as dt"
   ]
  },
  {
   "cell_type": "code",
   "execution_count": 64,
   "metadata": {},
   "outputs": [],
   "source": [
    "#Сформируем датасеты\n",
    "\n",
    "hypothesis = pd.read_csv('C://Users//Марина/Downloads//hypothesis.csv')\n",
    "orders = pd.read_csv('C://Users//Марина/Downloads//orders.csv')\n",
    "visitors = pd.read_csv('C://Users//Марина/Downloads//visitors.csv')\n"
   ]
  },
  {
   "cell_type": "code",
   "execution_count": 65,
   "metadata": {},
   "outputs": [],
   "source": [
    "data = [hypothesis, orders, visitors] # посмотрим таблицы, сделаем предобработку данных\n"
   ]
  },
  {
   "cell_type": "code",
   "execution_count": 66,
   "metadata": {},
   "outputs": [
    {
     "data": {
      "text/plain": [
       "[                                                                                                     Hypothesis  \\\n",
       " 0            Добавить два новых канала привлечения трафика, что позволит привлекать на 30% больше пользователей   \n",
       " 1                                     Запустить собственную службу доставки, что сократит срок доставки заказов   \n",
       " 2  Добавить блоки рекомендаций товаров на сайт интернет магазина, чтобы повысить конверсию и средний чек заказа   \n",
       " 3           Изменить структура категорий, что увеличит конверсию, т.к. пользователи быстрее найдут нужный товар   \n",
       " 4                              Изменить цвет фона главной страницы, чтобы увеличить вовлеченность пользователей   \n",
       " 5                      Добавить страницу отзывов клиентов о магазине, что позволит увеличить количество заказов   \n",
       " 6          Показать на главной странице баннеры с актуальными акциями и распродажами, чтобы увеличить конверсию   \n",
       " 7              Добавить форму подписки на все основные страницы, чтобы собрать базу клиентов для email-рассылок   \n",
       " 8                                                       Запустить акцию, дающую скидку на товар в день рождения   \n",
       " \n",
       "    Reach  Impact  Confidence  Efforts  \n",
       " 0      3      10           8        6  \n",
       " 1      2       5           4       10  \n",
       " 2      8       3           7        3  \n",
       " 3      8       3           3        8  \n",
       " 4      3       1           1        1  \n",
       " 5      3       2           2        3  \n",
       " 6      5       3           8        3  \n",
       " 7     10       7           8        5  \n",
       " 8      1       9           9        5  ,\n",
       "       transactionId   visitorId        date  revenue group\n",
       " 0        3667963787  3312258926  2019-08-15     1650     B\n",
       " 1        2804400009  3642806036  2019-08-15      730     B\n",
       " 2        2961555356  4069496402  2019-08-15      400     A\n",
       " 3        3797467345  1196621759  2019-08-15     9759     B\n",
       " 4        2282983706  2322279887  2019-08-15     2308     B\n",
       " ...             ...         ...         ...      ...   ...\n",
       " 1192     2662137336  3733762160  2019-08-14     6490     B\n",
       " 1193     2203539145   370388673  2019-08-14     3190     A\n",
       " 1194     1807773912   573423106  2019-08-14    10550     A\n",
       " 1195     1947021204  1614305549  2019-08-14      100     A\n",
       " 1196     3936777065  2108080724  2019-08-15   202740     B\n",
       " \n",
       " [1197 rows x 5 columns],\n",
       "           date group  visitors\n",
       " 0   2019-08-01     A       719\n",
       " 1   2019-08-02     A       619\n",
       " 2   2019-08-03     A       507\n",
       " 3   2019-08-04     A       717\n",
       " 4   2019-08-05     A       756\n",
       " ..         ...   ...       ...\n",
       " 57  2019-08-27     B       720\n",
       " 58  2019-08-28     B       654\n",
       " 59  2019-08-29     B       531\n",
       " 60  2019-08-30     B       490\n",
       " 61  2019-08-31     B       718\n",
       " \n",
       " [62 rows x 3 columns]]"
      ]
     },
     "execution_count": 66,
     "metadata": {},
     "output_type": "execute_result"
    }
   ],
   "source": [
    "data"
   ]
  },
  {
   "cell_type": "code",
   "execution_count": 67,
   "metadata": {},
   "outputs": [
    {
     "data": {
      "text/html": [
       "<div>\n",
       "<style scoped>\n",
       "    .dataframe tbody tr th:only-of-type {\n",
       "        vertical-align: middle;\n",
       "    }\n",
       "\n",
       "    .dataframe tbody tr th {\n",
       "        vertical-align: top;\n",
       "    }\n",
       "\n",
       "    .dataframe thead th {\n",
       "        text-align: right;\n",
       "    }\n",
       "</style>\n",
       "<table border=\"1\" class=\"dataframe\">\n",
       "  <thead>\n",
       "    <tr style=\"text-align: right;\">\n",
       "      <th></th>\n",
       "      <th>Reach</th>\n",
       "      <th>Impact</th>\n",
       "      <th>Confidence</th>\n",
       "      <th>Efforts</th>\n",
       "    </tr>\n",
       "  </thead>\n",
       "  <tbody>\n",
       "    <tr>\n",
       "      <th>count</th>\n",
       "      <td>9.000000</td>\n",
       "      <td>9.000000</td>\n",
       "      <td>9.000000</td>\n",
       "      <td>9.000000</td>\n",
       "    </tr>\n",
       "    <tr>\n",
       "      <th>mean</th>\n",
       "      <td>4.777778</td>\n",
       "      <td>4.777778</td>\n",
       "      <td>5.555556</td>\n",
       "      <td>4.888889</td>\n",
       "    </tr>\n",
       "    <tr>\n",
       "      <th>std</th>\n",
       "      <td>3.153481</td>\n",
       "      <td>3.192874</td>\n",
       "      <td>3.045944</td>\n",
       "      <td>2.803767</td>\n",
       "    </tr>\n",
       "    <tr>\n",
       "      <th>min</th>\n",
       "      <td>1.000000</td>\n",
       "      <td>1.000000</td>\n",
       "      <td>1.000000</td>\n",
       "      <td>1.000000</td>\n",
       "    </tr>\n",
       "    <tr>\n",
       "      <th>25%</th>\n",
       "      <td>3.000000</td>\n",
       "      <td>3.000000</td>\n",
       "      <td>3.000000</td>\n",
       "      <td>3.000000</td>\n",
       "    </tr>\n",
       "    <tr>\n",
       "      <th>50%</th>\n",
       "      <td>3.000000</td>\n",
       "      <td>3.000000</td>\n",
       "      <td>7.000000</td>\n",
       "      <td>5.000000</td>\n",
       "    </tr>\n",
       "    <tr>\n",
       "      <th>75%</th>\n",
       "      <td>8.000000</td>\n",
       "      <td>7.000000</td>\n",
       "      <td>8.000000</td>\n",
       "      <td>6.000000</td>\n",
       "    </tr>\n",
       "    <tr>\n",
       "      <th>max</th>\n",
       "      <td>10.000000</td>\n",
       "      <td>10.000000</td>\n",
       "      <td>9.000000</td>\n",
       "      <td>10.000000</td>\n",
       "    </tr>\n",
       "  </tbody>\n",
       "</table>\n",
       "</div>"
      ],
      "text/plain": [
       "           Reach     Impact  Confidence    Efforts\n",
       "count   9.000000   9.000000    9.000000   9.000000\n",
       "mean    4.777778   4.777778    5.555556   4.888889\n",
       "std     3.153481   3.192874    3.045944   2.803767\n",
       "min     1.000000   1.000000    1.000000   1.000000\n",
       "25%     3.000000   3.000000    3.000000   3.000000\n",
       "50%     3.000000   3.000000    7.000000   5.000000\n",
       "75%     8.000000   7.000000    8.000000   6.000000\n",
       "max    10.000000  10.000000    9.000000  10.000000"
      ]
     },
     "metadata": {},
     "output_type": "display_data"
    },
    {
     "name": "stdout",
     "output_type": "stream",
     "text": [
      "<class 'pandas.core.frame.DataFrame'>\n",
      "RangeIndex: 9 entries, 0 to 8\n",
      "Data columns (total 5 columns):\n",
      " #   Column      Non-Null Count  Dtype \n",
      "---  ------      --------------  ----- \n",
      " 0   Hypothesis  9 non-null      object\n",
      " 1   Reach       9 non-null      int64 \n",
      " 2   Impact      9 non-null      int64 \n",
      " 3   Confidence  9 non-null      int64 \n",
      " 4   Efforts     9 non-null      int64 \n",
      "dtypes: int64(4), object(1)\n",
      "memory usage: 488.0+ bytes\n"
     ]
    },
    {
     "data": {
      "text/plain": [
       "None"
      ]
     },
     "metadata": {},
     "output_type": "display_data"
    },
    {
     "data": {
      "text/plain": [
       "0"
      ]
     },
     "metadata": {},
     "output_type": "display_data"
    },
    {
     "data": {
      "text/html": [
       "<div>\n",
       "<style scoped>\n",
       "    .dataframe tbody tr th:only-of-type {\n",
       "        vertical-align: middle;\n",
       "    }\n",
       "\n",
       "    .dataframe tbody tr th {\n",
       "        vertical-align: top;\n",
       "    }\n",
       "\n",
       "    .dataframe thead th {\n",
       "        text-align: right;\n",
       "    }\n",
       "</style>\n",
       "<table border=\"1\" class=\"dataframe\">\n",
       "  <thead>\n",
       "    <tr style=\"text-align: right;\">\n",
       "      <th></th>\n",
       "      <th>transactionId</th>\n",
       "      <th>visitorId</th>\n",
       "      <th>revenue</th>\n",
       "    </tr>\n",
       "  </thead>\n",
       "  <tbody>\n",
       "    <tr>\n",
       "      <th>count</th>\n",
       "      <td>1.197000e+03</td>\n",
       "      <td>1.197000e+03</td>\n",
       "      <td>1.197000e+03</td>\n",
       "    </tr>\n",
       "    <tr>\n",
       "      <th>mean</th>\n",
       "      <td>2.155621e+09</td>\n",
       "      <td>2.165960e+09</td>\n",
       "      <td>8.348006e+03</td>\n",
       "    </tr>\n",
       "    <tr>\n",
       "      <th>std</th>\n",
       "      <td>1.229085e+09</td>\n",
       "      <td>1.236014e+09</td>\n",
       "      <td>3.919113e+04</td>\n",
       "    </tr>\n",
       "    <tr>\n",
       "      <th>min</th>\n",
       "      <td>1.062393e+06</td>\n",
       "      <td>5.114589e+06</td>\n",
       "      <td>5.000000e+01</td>\n",
       "    </tr>\n",
       "    <tr>\n",
       "      <th>25%</th>\n",
       "      <td>1.166776e+09</td>\n",
       "      <td>1.111826e+09</td>\n",
       "      <td>1.220000e+03</td>\n",
       "    </tr>\n",
       "    <tr>\n",
       "      <th>50%</th>\n",
       "      <td>2.145194e+09</td>\n",
       "      <td>2.217985e+09</td>\n",
       "      <td>2.978000e+03</td>\n",
       "    </tr>\n",
       "    <tr>\n",
       "      <th>75%</th>\n",
       "      <td>3.237740e+09</td>\n",
       "      <td>3.177606e+09</td>\n",
       "      <td>8.290000e+03</td>\n",
       "    </tr>\n",
       "    <tr>\n",
       "      <th>max</th>\n",
       "      <td>4.293856e+09</td>\n",
       "      <td>4.283872e+09</td>\n",
       "      <td>1.294500e+06</td>\n",
       "    </tr>\n",
       "  </tbody>\n",
       "</table>\n",
       "</div>"
      ],
      "text/plain": [
       "       transactionId     visitorId       revenue\n",
       "count   1.197000e+03  1.197000e+03  1.197000e+03\n",
       "mean    2.155621e+09  2.165960e+09  8.348006e+03\n",
       "std     1.229085e+09  1.236014e+09  3.919113e+04\n",
       "min     1.062393e+06  5.114589e+06  5.000000e+01\n",
       "25%     1.166776e+09  1.111826e+09  1.220000e+03\n",
       "50%     2.145194e+09  2.217985e+09  2.978000e+03\n",
       "75%     3.237740e+09  3.177606e+09  8.290000e+03\n",
       "max     4.293856e+09  4.283872e+09  1.294500e+06"
      ]
     },
     "metadata": {},
     "output_type": "display_data"
    },
    {
     "name": "stdout",
     "output_type": "stream",
     "text": [
      "<class 'pandas.core.frame.DataFrame'>\n",
      "RangeIndex: 1197 entries, 0 to 1196\n",
      "Data columns (total 5 columns):\n",
      " #   Column         Non-Null Count  Dtype \n",
      "---  ------         --------------  ----- \n",
      " 0   transactionId  1197 non-null   int64 \n",
      " 1   visitorId      1197 non-null   int64 \n",
      " 2   date           1197 non-null   object\n",
      " 3   revenue        1197 non-null   int64 \n",
      " 4   group          1197 non-null   object\n",
      "dtypes: int64(3), object(2)\n",
      "memory usage: 46.9+ KB\n"
     ]
    },
    {
     "data": {
      "text/plain": [
       "None"
      ]
     },
     "metadata": {},
     "output_type": "display_data"
    },
    {
     "data": {
      "text/plain": [
       "0"
      ]
     },
     "metadata": {},
     "output_type": "display_data"
    },
    {
     "data": {
      "text/html": [
       "<div>\n",
       "<style scoped>\n",
       "    .dataframe tbody tr th:only-of-type {\n",
       "        vertical-align: middle;\n",
       "    }\n",
       "\n",
       "    .dataframe tbody tr th {\n",
       "        vertical-align: top;\n",
       "    }\n",
       "\n",
       "    .dataframe thead th {\n",
       "        text-align: right;\n",
       "    }\n",
       "</style>\n",
       "<table border=\"1\" class=\"dataframe\">\n",
       "  <thead>\n",
       "    <tr style=\"text-align: right;\">\n",
       "      <th></th>\n",
       "      <th>visitors</th>\n",
       "    </tr>\n",
       "  </thead>\n",
       "  <tbody>\n",
       "    <tr>\n",
       "      <th>count</th>\n",
       "      <td>62.000000</td>\n",
       "    </tr>\n",
       "    <tr>\n",
       "      <th>mean</th>\n",
       "      <td>607.290323</td>\n",
       "    </tr>\n",
       "    <tr>\n",
       "      <th>std</th>\n",
       "      <td>114.400560</td>\n",
       "    </tr>\n",
       "    <tr>\n",
       "      <th>min</th>\n",
       "      <td>361.000000</td>\n",
       "    </tr>\n",
       "    <tr>\n",
       "      <th>25%</th>\n",
       "      <td>534.000000</td>\n",
       "    </tr>\n",
       "    <tr>\n",
       "      <th>50%</th>\n",
       "      <td>624.500000</td>\n",
       "    </tr>\n",
       "    <tr>\n",
       "      <th>75%</th>\n",
       "      <td>710.500000</td>\n",
       "    </tr>\n",
       "    <tr>\n",
       "      <th>max</th>\n",
       "      <td>770.000000</td>\n",
       "    </tr>\n",
       "  </tbody>\n",
       "</table>\n",
       "</div>"
      ],
      "text/plain": [
       "         visitors\n",
       "count   62.000000\n",
       "mean   607.290323\n",
       "std    114.400560\n",
       "min    361.000000\n",
       "25%    534.000000\n",
       "50%    624.500000\n",
       "75%    710.500000\n",
       "max    770.000000"
      ]
     },
     "metadata": {},
     "output_type": "display_data"
    },
    {
     "name": "stdout",
     "output_type": "stream",
     "text": [
      "<class 'pandas.core.frame.DataFrame'>\n",
      "RangeIndex: 62 entries, 0 to 61\n",
      "Data columns (total 3 columns):\n",
      " #   Column    Non-Null Count  Dtype \n",
      "---  ------    --------------  ----- \n",
      " 0   date      62 non-null     object\n",
      " 1   group     62 non-null     object\n",
      " 2   visitors  62 non-null     int64 \n",
      "dtypes: int64(1), object(2)\n",
      "memory usage: 1.6+ KB\n"
     ]
    },
    {
     "data": {
      "text/plain": [
       "None"
      ]
     },
     "metadata": {},
     "output_type": "display_data"
    },
    {
     "data": {
      "text/plain": [
       "0"
      ]
     },
     "metadata": {},
     "output_type": "display_data"
    }
   ],
   "source": [
    "# расммотрим информацию подробнее\n",
    "for tab in data:\n",
    "    display(tab.describe())\n",
    "    display(tab.info())\n",
    "    display(tab.duplicated().sum())"
   ]
  },
  {
   "cell_type": "code",
   "execution_count": 68,
   "metadata": {},
   "outputs": [],
   "source": [
    " # Изменим в таблице orders и visitors  фармат в поле дата.\n",
    "orders['date'] = pd.to_datetime(\n",
    "    orders['date'], format='%Y-%m-%d')   \n",
    "    \n",
    "    \n",
    "visitors['date'] = pd.to_datetime(\n",
    "    visitors['date'], format='%Y-%m-%d')"
   ]
  },
  {
   "cell_type": "code",
   "execution_count": 69,
   "metadata": {},
   "outputs": [],
   "source": [
    "#приведем к нижнему регистру названия столбцов в таблице hypothesis\n",
    "hypothesis.columns = map(str.lower, hypothesis.columns)"
   ]
  },
  {
   "cell_type": "markdown",
   "metadata": {},
   "source": [
    "Дубликатов и пропусков в данных нет, поменяли формат даты, изменили названия столбцов."
   ]
  },
  {
   "cell_type": "markdown",
   "metadata": {},
   "source": [
    "#### Применим фреймворк ICE для приоритизации гипотез. Отсортируем их по убыванию приоритета."
   ]
  },
  {
   "cell_type": "code",
   "execution_count": 70,
   "metadata": {},
   "outputs": [
    {
     "data": {
      "text/html": [
       "<div>\n",
       "<style scoped>\n",
       "    .dataframe tbody tr th:only-of-type {\n",
       "        vertical-align: middle;\n",
       "    }\n",
       "\n",
       "    .dataframe tbody tr th {\n",
       "        vertical-align: top;\n",
       "    }\n",
       "\n",
       "    .dataframe thead th {\n",
       "        text-align: right;\n",
       "    }\n",
       "</style>\n",
       "<table border=\"1\" class=\"dataframe\">\n",
       "  <thead>\n",
       "    <tr style=\"text-align: right;\">\n",
       "      <th></th>\n",
       "      <th>hypothesis</th>\n",
       "      <th>reach</th>\n",
       "      <th>impact</th>\n",
       "      <th>confidence</th>\n",
       "      <th>efforts</th>\n",
       "      <th>ICE</th>\n",
       "    </tr>\n",
       "  </thead>\n",
       "  <tbody>\n",
       "    <tr>\n",
       "      <th>8</th>\n",
       "      <td>Запустить акцию, дающую скидку на товар в день рождения</td>\n",
       "      <td>1</td>\n",
       "      <td>9</td>\n",
       "      <td>9</td>\n",
       "      <td>5</td>\n",
       "      <td>16.200000</td>\n",
       "    </tr>\n",
       "    <tr>\n",
       "      <th>0</th>\n",
       "      <td>Добавить два новых канала привлечения трафика, что позволит привлекать на 30% больше пользователей</td>\n",
       "      <td>3</td>\n",
       "      <td>10</td>\n",
       "      <td>8</td>\n",
       "      <td>6</td>\n",
       "      <td>13.333333</td>\n",
       "    </tr>\n",
       "    <tr>\n",
       "      <th>7</th>\n",
       "      <td>Добавить форму подписки на все основные страницы, чтобы собрать базу клиентов для email-рассылок</td>\n",
       "      <td>10</td>\n",
       "      <td>7</td>\n",
       "      <td>8</td>\n",
       "      <td>5</td>\n",
       "      <td>11.200000</td>\n",
       "    </tr>\n",
       "    <tr>\n",
       "      <th>6</th>\n",
       "      <td>Показать на главной странице баннеры с актуальными акциями и распродажами, чтобы увеличить конверсию</td>\n",
       "      <td>5</td>\n",
       "      <td>3</td>\n",
       "      <td>8</td>\n",
       "      <td>3</td>\n",
       "      <td>8.000000</td>\n",
       "    </tr>\n",
       "    <tr>\n",
       "      <th>2</th>\n",
       "      <td>Добавить блоки рекомендаций товаров на сайт интернет магазина, чтобы повысить конверсию и средний чек заказа</td>\n",
       "      <td>8</td>\n",
       "      <td>3</td>\n",
       "      <td>7</td>\n",
       "      <td>3</td>\n",
       "      <td>7.000000</td>\n",
       "    </tr>\n",
       "    <tr>\n",
       "      <th>1</th>\n",
       "      <td>Запустить собственную службу доставки, что сократит срок доставки заказов</td>\n",
       "      <td>2</td>\n",
       "      <td>5</td>\n",
       "      <td>4</td>\n",
       "      <td>10</td>\n",
       "      <td>2.000000</td>\n",
       "    </tr>\n",
       "    <tr>\n",
       "      <th>5</th>\n",
       "      <td>Добавить страницу отзывов клиентов о магазине, что позволит увеличить количество заказов</td>\n",
       "      <td>3</td>\n",
       "      <td>2</td>\n",
       "      <td>2</td>\n",
       "      <td>3</td>\n",
       "      <td>1.333333</td>\n",
       "    </tr>\n",
       "    <tr>\n",
       "      <th>3</th>\n",
       "      <td>Изменить структура категорий, что увеличит конверсию, т.к. пользователи быстрее найдут нужный товар</td>\n",
       "      <td>8</td>\n",
       "      <td>3</td>\n",
       "      <td>3</td>\n",
       "      <td>8</td>\n",
       "      <td>1.125000</td>\n",
       "    </tr>\n",
       "    <tr>\n",
       "      <th>4</th>\n",
       "      <td>Изменить цвет фона главной страницы, чтобы увеличить вовлеченность пользователей</td>\n",
       "      <td>3</td>\n",
       "      <td>1</td>\n",
       "      <td>1</td>\n",
       "      <td>1</td>\n",
       "      <td>1.000000</td>\n",
       "    </tr>\n",
       "  </tbody>\n",
       "</table>\n",
       "</div>"
      ],
      "text/plain": [
       "                                                                                                     hypothesis  \\\n",
       "8                                                       Запустить акцию, дающую скидку на товар в день рождения   \n",
       "0            Добавить два новых канала привлечения трафика, что позволит привлекать на 30% больше пользователей   \n",
       "7              Добавить форму подписки на все основные страницы, чтобы собрать базу клиентов для email-рассылок   \n",
       "6          Показать на главной странице баннеры с актуальными акциями и распродажами, чтобы увеличить конверсию   \n",
       "2  Добавить блоки рекомендаций товаров на сайт интернет магазина, чтобы повысить конверсию и средний чек заказа   \n",
       "1                                     Запустить собственную службу доставки, что сократит срок доставки заказов   \n",
       "5                      Добавить страницу отзывов клиентов о магазине, что позволит увеличить количество заказов   \n",
       "3           Изменить структура категорий, что увеличит конверсию, т.к. пользователи быстрее найдут нужный товар   \n",
       "4                              Изменить цвет фона главной страницы, чтобы увеличить вовлеченность пользователей   \n",
       "\n",
       "   reach  impact  confidence  efforts        ICE  \n",
       "8      1       9           9        5  16.200000  \n",
       "0      3      10           8        6  13.333333  \n",
       "7     10       7           8        5  11.200000  \n",
       "6      5       3           8        3   8.000000  \n",
       "2      8       3           7        3   7.000000  \n",
       "1      2       5           4       10   2.000000  \n",
       "5      3       2           2        3   1.333333  \n",
       "3      8       3           3        8   1.125000  \n",
       "4      3       1           1        1   1.000000  "
      ]
     },
     "execution_count": 70,
     "metadata": {},
     "output_type": "execute_result"
    }
   ],
   "source": [
    "#Посчитаем ICE влияние на пользователей умножим на  уверенность в гипотезе и разделим на затраты\n",
    "\n",
    "hypothesis['ICE'] = ( hypothesis['impact'] * hypothesis['confidence']) / hypothesis['efforts']\n",
    "hypothesis[['hypothesis', 'ICE']].sort_values(by='ICE', ascending=False)\n",
    "pd.options.display.max_colwidth=400\n",
    "hypothesis.sort_values(by='ICE', ascending=False)"
   ]
  },
  {
   "cell_type": "markdown",
   "metadata": {},
   "source": [
    "#### Добавим в формулу охват пользователей и Применим фреймворк RICE для приоритизации гипотез. Отсортируем их по убыванию приоритета."
   ]
  },
  {
   "cell_type": "code",
   "execution_count": 71,
   "metadata": {},
   "outputs": [
    {
     "data": {
      "text/html": [
       "<div>\n",
       "<style scoped>\n",
       "    .dataframe tbody tr th:only-of-type {\n",
       "        vertical-align: middle;\n",
       "    }\n",
       "\n",
       "    .dataframe tbody tr th {\n",
       "        vertical-align: top;\n",
       "    }\n",
       "\n",
       "    .dataframe thead th {\n",
       "        text-align: right;\n",
       "    }\n",
       "</style>\n",
       "<table border=\"1\" class=\"dataframe\">\n",
       "  <thead>\n",
       "    <tr style=\"text-align: right;\">\n",
       "      <th></th>\n",
       "      <th>hypothesis</th>\n",
       "      <th>reach</th>\n",
       "      <th>impact</th>\n",
       "      <th>confidence</th>\n",
       "      <th>efforts</th>\n",
       "      <th>ICE</th>\n",
       "      <th>RICE</th>\n",
       "    </tr>\n",
       "  </thead>\n",
       "  <tbody>\n",
       "    <tr>\n",
       "      <th>7</th>\n",
       "      <td>Добавить форму подписки на все основные страницы, чтобы собрать базу клиентов для email-рассылок</td>\n",
       "      <td>10</td>\n",
       "      <td>7</td>\n",
       "      <td>8</td>\n",
       "      <td>5</td>\n",
       "      <td>11.200000</td>\n",
       "      <td>112.0</td>\n",
       "    </tr>\n",
       "    <tr>\n",
       "      <th>2</th>\n",
       "      <td>Добавить блоки рекомендаций товаров на сайт интернет магазина, чтобы повысить конверсию и средний чек заказа</td>\n",
       "      <td>8</td>\n",
       "      <td>3</td>\n",
       "      <td>7</td>\n",
       "      <td>3</td>\n",
       "      <td>7.000000</td>\n",
       "      <td>56.0</td>\n",
       "    </tr>\n",
       "    <tr>\n",
       "      <th>0</th>\n",
       "      <td>Добавить два новых канала привлечения трафика, что позволит привлекать на 30% больше пользователей</td>\n",
       "      <td>3</td>\n",
       "      <td>10</td>\n",
       "      <td>8</td>\n",
       "      <td>6</td>\n",
       "      <td>13.333333</td>\n",
       "      <td>40.0</td>\n",
       "    </tr>\n",
       "    <tr>\n",
       "      <th>6</th>\n",
       "      <td>Показать на главной странице баннеры с актуальными акциями и распродажами, чтобы увеличить конверсию</td>\n",
       "      <td>5</td>\n",
       "      <td>3</td>\n",
       "      <td>8</td>\n",
       "      <td>3</td>\n",
       "      <td>8.000000</td>\n",
       "      <td>40.0</td>\n",
       "    </tr>\n",
       "    <tr>\n",
       "      <th>8</th>\n",
       "      <td>Запустить акцию, дающую скидку на товар в день рождения</td>\n",
       "      <td>1</td>\n",
       "      <td>9</td>\n",
       "      <td>9</td>\n",
       "      <td>5</td>\n",
       "      <td>16.200000</td>\n",
       "      <td>16.2</td>\n",
       "    </tr>\n",
       "    <tr>\n",
       "      <th>3</th>\n",
       "      <td>Изменить структура категорий, что увеличит конверсию, т.к. пользователи быстрее найдут нужный товар</td>\n",
       "      <td>8</td>\n",
       "      <td>3</td>\n",
       "      <td>3</td>\n",
       "      <td>8</td>\n",
       "      <td>1.125000</td>\n",
       "      <td>9.0</td>\n",
       "    </tr>\n",
       "    <tr>\n",
       "      <th>1</th>\n",
       "      <td>Запустить собственную службу доставки, что сократит срок доставки заказов</td>\n",
       "      <td>2</td>\n",
       "      <td>5</td>\n",
       "      <td>4</td>\n",
       "      <td>10</td>\n",
       "      <td>2.000000</td>\n",
       "      <td>4.0</td>\n",
       "    </tr>\n",
       "    <tr>\n",
       "      <th>5</th>\n",
       "      <td>Добавить страницу отзывов клиентов о магазине, что позволит увеличить количество заказов</td>\n",
       "      <td>3</td>\n",
       "      <td>2</td>\n",
       "      <td>2</td>\n",
       "      <td>3</td>\n",
       "      <td>1.333333</td>\n",
       "      <td>4.0</td>\n",
       "    </tr>\n",
       "    <tr>\n",
       "      <th>4</th>\n",
       "      <td>Изменить цвет фона главной страницы, чтобы увеличить вовлеченность пользователей</td>\n",
       "      <td>3</td>\n",
       "      <td>1</td>\n",
       "      <td>1</td>\n",
       "      <td>1</td>\n",
       "      <td>1.000000</td>\n",
       "      <td>3.0</td>\n",
       "    </tr>\n",
       "  </tbody>\n",
       "</table>\n",
       "</div>"
      ],
      "text/plain": [
       "                                                                                                     hypothesis  \\\n",
       "7              Добавить форму подписки на все основные страницы, чтобы собрать базу клиентов для email-рассылок   \n",
       "2  Добавить блоки рекомендаций товаров на сайт интернет магазина, чтобы повысить конверсию и средний чек заказа   \n",
       "0            Добавить два новых канала привлечения трафика, что позволит привлекать на 30% больше пользователей   \n",
       "6          Показать на главной странице баннеры с актуальными акциями и распродажами, чтобы увеличить конверсию   \n",
       "8                                                       Запустить акцию, дающую скидку на товар в день рождения   \n",
       "3           Изменить структура категорий, что увеличит конверсию, т.к. пользователи быстрее найдут нужный товар   \n",
       "1                                     Запустить собственную службу доставки, что сократит срок доставки заказов   \n",
       "5                      Добавить страницу отзывов клиентов о магазине, что позволит увеличить количество заказов   \n",
       "4                              Изменить цвет фона главной страницы, чтобы увеличить вовлеченность пользователей   \n",
       "\n",
       "   reach  impact  confidence  efforts        ICE   RICE  \n",
       "7     10       7           8        5  11.200000  112.0  \n",
       "2      8       3           7        3   7.000000   56.0  \n",
       "0      3      10           8        6  13.333333   40.0  \n",
       "6      5       3           8        3   8.000000   40.0  \n",
       "8      1       9           9        5  16.200000   16.2  \n",
       "3      8       3           3        8   1.125000    9.0  \n",
       "1      2       5           4       10   2.000000    4.0  \n",
       "5      3       2           2        3   1.333333    4.0  \n",
       "4      3       1           1        1   1.000000    3.0  "
      ]
     },
     "execution_count": 71,
     "metadata": {},
     "output_type": "execute_result"
    }
   ],
   "source": [
    "hypothesis['RICE'] = (hypothesis['reach'] *  hypothesis['impact'] * hypothesis['confidence']) / hypothesis['efforts']\n",
    "\n",
    "hypothesis.sort_values(by='RICE', ascending=False)"
   ]
  },
  {
   "cell_type": "markdown",
   "metadata": {},
   "source": [
    "#### Приоритизация гипотез при применении RICE вместо ICE изменилась. "
   ]
  },
  {
   "cell_type": "markdown",
   "metadata": {},
   "source": [
    "Пр применении  ICE на первом месте гипотеза под номером 8 , при  RICE выше показатель у гипотезы 7\n",
    "Это произошло из за того, что показатель  охвата пользователей (reach) у 7 гипотезы выше всех - максимальный 10 балов, у 8й гипотезы всего 1 бал.\n",
    "Нужно учитывать сколько пользователей затронет гипотеза.\n",
    "Гипотеза номер 7 в приоритете.\n"
   ]
  },
  {
   "cell_type": "markdown",
   "metadata": {},
   "source": [
    "### Часть. Анализ A/B-теста"
   ]
  },
  {
   "cell_type": "code",
   "execution_count": 73,
   "metadata": {},
   "outputs": [
    {
     "data": {
      "text/plain": [
       "array([   8300375,  199603092,  232979603,  237748145,  276558944,\n",
       "        351125977,  393266494,  457167155,  471551937,  477780734,\n",
       "        818047933,  963407295, 1230306981, 1294878855, 1316129916,\n",
       "       1333886533, 1404934699, 1602967004, 1614305549, 1648269707,\n",
       "       1668030113, 1738359350, 1801183820, 1959144690, 2038680547,\n",
       "       2044997962, 2378935119, 2458001652, 2579882178, 2587333274,\n",
       "       2600415354, 2654030115, 2686716486, 2712142231, 2716752286,\n",
       "       2780786433, 2927087541, 2949041841, 2954449915, 3062433592,\n",
       "       3202540741, 3234906277, 3656415546, 3717692402, 3766097110,\n",
       "       3803269165, 3891541246, 3941795274, 3951559397, 3957174400,\n",
       "       3963646447, 3972127743, 3984495233, 4069496402, 4120364173,\n",
       "       4186807279, 4256040402, 4266935830], dtype=int64)"
      ]
     },
     "execution_count": 73,
     "metadata": {},
     "output_type": "execute_result"
    }
   ],
   "source": [
    "#Проверим, есть ли пользователи, которые попали в обе группы\n",
    "duplicat = np.intersect1d(orders.query('group == \"A\"')['visitorId'].unique(), orders.query('group == \"B\"')['visitorId'].unique())\n",
    "duplicat"
   ]
  },
  {
   "cell_type": "code",
   "execution_count": 74,
   "metadata": {},
   "outputs": [],
   "source": [
    "#Удалим пользователей, которые попали в обе группы\n",
    "orders = orders[~orders['visitorId'].isin(duplicat)]"
   ]
  },
  {
   "cell_type": "markdown",
   "metadata": {},
   "source": [
    "#### Построем график кумулятивной выручки по группам"
   ]
  },
  {
   "cell_type": "markdown",
   "metadata": {},
   "source": [
    "Создадим датафрейм datesGroups с уникальными парами значений 'date' и 'group', таблицы orders. Избавимся от дубликатов"
   ]
  },
  {
   "cell_type": "code",
   "execution_count": 75,
   "metadata": {},
   "outputs": [
    {
     "data": {
      "text/html": [
       "<div>\n",
       "<style scoped>\n",
       "    .dataframe tbody tr th:only-of-type {\n",
       "        vertical-align: middle;\n",
       "    }\n",
       "\n",
       "    .dataframe tbody tr th {\n",
       "        vertical-align: top;\n",
       "    }\n",
       "\n",
       "    .dataframe thead th {\n",
       "        text-align: right;\n",
       "    }\n",
       "</style>\n",
       "<table border=\"1\" class=\"dataframe\">\n",
       "  <thead>\n",
       "    <tr style=\"text-align: right;\">\n",
       "      <th></th>\n",
       "      <th>date</th>\n",
       "      <th>group</th>\n",
       "    </tr>\n",
       "  </thead>\n",
       "  <tbody>\n",
       "    <tr>\n",
       "      <th>0</th>\n",
       "      <td>2019-08-15</td>\n",
       "      <td>B</td>\n",
       "    </tr>\n",
       "    <tr>\n",
       "      <th>7</th>\n",
       "      <td>2019-08-15</td>\n",
       "      <td>A</td>\n",
       "    </tr>\n",
       "    <tr>\n",
       "      <th>45</th>\n",
       "      <td>2019-08-16</td>\n",
       "      <td>A</td>\n",
       "    </tr>\n",
       "    <tr>\n",
       "      <th>47</th>\n",
       "      <td>2019-08-16</td>\n",
       "      <td>B</td>\n",
       "    </tr>\n",
       "    <tr>\n",
       "      <th>55</th>\n",
       "      <td>2019-08-01</td>\n",
       "      <td>A</td>\n",
       "    </tr>\n",
       "    <tr>\n",
       "      <th>...</th>\n",
       "      <td>...</td>\n",
       "      <td>...</td>\n",
       "    </tr>\n",
       "    <tr>\n",
       "      <th>1068</th>\n",
       "      <td>2019-08-12</td>\n",
       "      <td>A</td>\n",
       "    </tr>\n",
       "    <tr>\n",
       "      <th>1114</th>\n",
       "      <td>2019-08-13</td>\n",
       "      <td>B</td>\n",
       "    </tr>\n",
       "    <tr>\n",
       "      <th>1116</th>\n",
       "      <td>2019-08-13</td>\n",
       "      <td>A</td>\n",
       "    </tr>\n",
       "    <tr>\n",
       "      <th>1149</th>\n",
       "      <td>2019-08-14</td>\n",
       "      <td>B</td>\n",
       "    </tr>\n",
       "    <tr>\n",
       "      <th>1150</th>\n",
       "      <td>2019-08-14</td>\n",
       "      <td>A</td>\n",
       "    </tr>\n",
       "  </tbody>\n",
       "</table>\n",
       "<p>62 rows × 2 columns</p>\n",
       "</div>"
      ],
      "text/plain": [
       "           date group\n",
       "0    2019-08-15     B\n",
       "7    2019-08-15     A\n",
       "45   2019-08-16     A\n",
       "47   2019-08-16     B\n",
       "55   2019-08-01     A\n",
       "...         ...   ...\n",
       "1068 2019-08-12     A\n",
       "1114 2019-08-13     B\n",
       "1116 2019-08-13     A\n",
       "1149 2019-08-14     B\n",
       "1150 2019-08-14     A\n",
       "\n",
       "[62 rows x 2 columns]"
      ]
     },
     "execution_count": 75,
     "metadata": {},
     "output_type": "execute_result"
    }
   ],
   "source": [
    "datesGroups = orders[['date','group']].drop_duplicates() \n",
    "datesGroups"
   ]
  },
  {
   "cell_type": "markdown",
   "metadata": {},
   "source": [
    "Объявим переменную ordersAggregated, содержащую:\n",
    "* дату;\n",
    "* группу A/B-теста;\n",
    "* число уникальных заказов в группе теста по указанную дату включительно;\n",
    "* число уникальных пользователей, совершивших хотя бы 1 заказ в группе теста по указанную дату включительно;\n",
    "* суммарную выручку заказов в группе теста по указанную дату включительно."
   ]
  },
  {
   "cell_type": "code",
   "execution_count": 76,
   "metadata": {},
   "outputs": [
    {
     "data": {
      "text/html": [
       "<div>\n",
       "<style scoped>\n",
       "    .dataframe tbody tr th:only-of-type {\n",
       "        vertical-align: middle;\n",
       "    }\n",
       "\n",
       "    .dataframe tbody tr th {\n",
       "        vertical-align: top;\n",
       "    }\n",
       "\n",
       "    .dataframe thead th {\n",
       "        text-align: right;\n",
       "    }\n",
       "</style>\n",
       "<table border=\"1\" class=\"dataframe\">\n",
       "  <thead>\n",
       "    <tr style=\"text-align: right;\">\n",
       "      <th></th>\n",
       "      <th>date</th>\n",
       "      <th>group</th>\n",
       "      <th>transactionId</th>\n",
       "      <th>visitorId</th>\n",
       "      <th>revenue</th>\n",
       "    </tr>\n",
       "  </thead>\n",
       "  <tbody>\n",
       "    <tr>\n",
       "      <th>55</th>\n",
       "      <td>2019-08-01</td>\n",
       "      <td>A</td>\n",
       "      <td>23</td>\n",
       "      <td>19</td>\n",
       "      <td>142779</td>\n",
       "    </tr>\n",
       "    <tr>\n",
       "      <th>66</th>\n",
       "      <td>2019-08-01</td>\n",
       "      <td>B</td>\n",
       "      <td>17</td>\n",
       "      <td>17</td>\n",
       "      <td>59758</td>\n",
       "    </tr>\n",
       "    <tr>\n",
       "      <th>175</th>\n",
       "      <td>2019-08-02</td>\n",
       "      <td>A</td>\n",
       "      <td>42</td>\n",
       "      <td>36</td>\n",
       "      <td>234381</td>\n",
       "    </tr>\n",
       "    <tr>\n",
       "      <th>173</th>\n",
       "      <td>2019-08-02</td>\n",
       "      <td>B</td>\n",
       "      <td>40</td>\n",
       "      <td>39</td>\n",
       "      <td>221801</td>\n",
       "    </tr>\n",
       "    <tr>\n",
       "      <th>291</th>\n",
       "      <td>2019-08-03</td>\n",
       "      <td>A</td>\n",
       "      <td>66</td>\n",
       "      <td>60</td>\n",
       "      <td>346854</td>\n",
       "    </tr>\n",
       "    <tr>\n",
       "      <th>...</th>\n",
       "      <td>...</td>\n",
       "      <td>...</td>\n",
       "      <td>...</td>\n",
       "      <td>...</td>\n",
       "      <td>...</td>\n",
       "    </tr>\n",
       "    <tr>\n",
       "      <th>533</th>\n",
       "      <td>2019-08-29</td>\n",
       "      <td>B</td>\n",
       "      <td>510</td>\n",
       "      <td>490</td>\n",
       "      <td>4746610</td>\n",
       "    </tr>\n",
       "    <tr>\n",
       "      <th>757</th>\n",
       "      <td>2019-08-30</td>\n",
       "      <td>A</td>\n",
       "      <td>460</td>\n",
       "      <td>437</td>\n",
       "      <td>3311413</td>\n",
       "    </tr>\n",
       "    <tr>\n",
       "      <th>690</th>\n",
       "      <td>2019-08-30</td>\n",
       "      <td>B</td>\n",
       "      <td>531</td>\n",
       "      <td>511</td>\n",
       "      <td>4955833</td>\n",
       "    </tr>\n",
       "    <tr>\n",
       "      <th>958</th>\n",
       "      <td>2019-08-31</td>\n",
       "      <td>A</td>\n",
       "      <td>468</td>\n",
       "      <td>445</td>\n",
       "      <td>3364656</td>\n",
       "    </tr>\n",
       "    <tr>\n",
       "      <th>930</th>\n",
       "      <td>2019-08-31</td>\n",
       "      <td>B</td>\n",
       "      <td>548</td>\n",
       "      <td>528</td>\n",
       "      <td>5068972</td>\n",
       "    </tr>\n",
       "  </tbody>\n",
       "</table>\n",
       "<p>62 rows × 5 columns</p>\n",
       "</div>"
      ],
      "text/plain": [
       "          date group  transactionId  visitorId  revenue\n",
       "55  2019-08-01     A             23         19   142779\n",
       "66  2019-08-01     B             17         17    59758\n",
       "175 2019-08-02     A             42         36   234381\n",
       "173 2019-08-02     B             40         39   221801\n",
       "291 2019-08-03     A             66         60   346854\n",
       "..         ...   ...            ...        ...      ...\n",
       "533 2019-08-29     B            510        490  4746610\n",
       "757 2019-08-30     A            460        437  3311413\n",
       "690 2019-08-30     B            531        511  4955833\n",
       "958 2019-08-31     A            468        445  3364656\n",
       "930 2019-08-31     B            548        528  5068972\n",
       "\n",
       "[62 rows x 5 columns]"
      ]
     },
     "execution_count": 76,
     "metadata": {},
     "output_type": "execute_result"
    }
   ],
   "source": [
    "ordersAggregated = datesGroups.apply(lambda x: orders[np.logical_and(orders['date'] <= x['date'], orders['group'] == x['group'])]\\\n",
    ".agg({'date' : 'max', \n",
    "      'group' : 'max', \n",
    "      'transactionId' : 'nunique',\n",
    "      'visitorId' : 'nunique', \n",
    "      'revenue' : 'sum'}), axis=1).sort_values(by=['date','group']) \n",
    "ordersAggregated"
   ]
  },
  {
   "cell_type": "markdown",
   "metadata": {},
   "source": [
    "Объявим переменную visitorsAggregated, содержащую:\n",
    "* дату;\n",
    "* группу A/B-теста;\n",
    "* количество уникальных посетителей в группе теста по указанную дату включительно."
   ]
  },
  {
   "cell_type": "code",
   "execution_count": 77,
   "metadata": {},
   "outputs": [
    {
     "data": {
      "text/html": [
       "<div>\n",
       "<style scoped>\n",
       "    .dataframe tbody tr th:only-of-type {\n",
       "        vertical-align: middle;\n",
       "    }\n",
       "\n",
       "    .dataframe tbody tr th {\n",
       "        vertical-align: top;\n",
       "    }\n",
       "\n",
       "    .dataframe thead th {\n",
       "        text-align: right;\n",
       "    }\n",
       "</style>\n",
       "<table border=\"1\" class=\"dataframe\">\n",
       "  <thead>\n",
       "    <tr style=\"text-align: right;\">\n",
       "      <th></th>\n",
       "      <th>date</th>\n",
       "      <th>group</th>\n",
       "      <th>visitors</th>\n",
       "    </tr>\n",
       "  </thead>\n",
       "  <tbody>\n",
       "    <tr>\n",
       "      <th>55</th>\n",
       "      <td>2019-08-01</td>\n",
       "      <td>A</td>\n",
       "      <td>719</td>\n",
       "    </tr>\n",
       "    <tr>\n",
       "      <th>66</th>\n",
       "      <td>2019-08-01</td>\n",
       "      <td>B</td>\n",
       "      <td>713</td>\n",
       "    </tr>\n",
       "    <tr>\n",
       "      <th>175</th>\n",
       "      <td>2019-08-02</td>\n",
       "      <td>A</td>\n",
       "      <td>1338</td>\n",
       "    </tr>\n",
       "    <tr>\n",
       "      <th>173</th>\n",
       "      <td>2019-08-02</td>\n",
       "      <td>B</td>\n",
       "      <td>1294</td>\n",
       "    </tr>\n",
       "    <tr>\n",
       "      <th>291</th>\n",
       "      <td>2019-08-03</td>\n",
       "      <td>A</td>\n",
       "      <td>1845</td>\n",
       "    </tr>\n",
       "    <tr>\n",
       "      <th>...</th>\n",
       "      <td>...</td>\n",
       "      <td>...</td>\n",
       "      <td>...</td>\n",
       "    </tr>\n",
       "    <tr>\n",
       "      <th>533</th>\n",
       "      <td>2019-08-29</td>\n",
       "      <td>B</td>\n",
       "      <td>17708</td>\n",
       "    </tr>\n",
       "    <tr>\n",
       "      <th>757</th>\n",
       "      <td>2019-08-30</td>\n",
       "      <td>A</td>\n",
       "      <td>18037</td>\n",
       "    </tr>\n",
       "    <tr>\n",
       "      <th>690</th>\n",
       "      <td>2019-08-30</td>\n",
       "      <td>B</td>\n",
       "      <td>18198</td>\n",
       "    </tr>\n",
       "    <tr>\n",
       "      <th>958</th>\n",
       "      <td>2019-08-31</td>\n",
       "      <td>A</td>\n",
       "      <td>18736</td>\n",
       "    </tr>\n",
       "    <tr>\n",
       "      <th>930</th>\n",
       "      <td>2019-08-31</td>\n",
       "      <td>B</td>\n",
       "      <td>18916</td>\n",
       "    </tr>\n",
       "  </tbody>\n",
       "</table>\n",
       "<p>62 rows × 3 columns</p>\n",
       "</div>"
      ],
      "text/plain": [
       "          date group  visitors\n",
       "55  2019-08-01     A       719\n",
       "66  2019-08-01     B       713\n",
       "175 2019-08-02     A      1338\n",
       "173 2019-08-02     B      1294\n",
       "291 2019-08-03     A      1845\n",
       "..         ...   ...       ...\n",
       "533 2019-08-29     B     17708\n",
       "757 2019-08-30     A     18037\n",
       "690 2019-08-30     B     18198\n",
       "958 2019-08-31     A     18736\n",
       "930 2019-08-31     B     18916\n",
       "\n",
       "[62 rows x 3 columns]"
      ]
     },
     "execution_count": 77,
     "metadata": {},
     "output_type": "execute_result"
    }
   ],
   "source": [
    "visitorsAggregated = datesGroups.apply(lambda x: visitors[np.logical_and(visitors['date'] <= x['date'], visitors['group'] == x['group'])].agg({'date' : 'max',\n",
    "                                                                                                                                               'group' : 'max', \n",
    "                                                                                                                                               'visitors' : 'sum'}), axis=1).sort_values(by=['date','group'])\n",
    "visitorsAggregated"
   ]
  },
  {
   "cell_type": "markdown",
   "metadata": {},
   "source": [
    "Определим переменную cumulativeData, объединив ordersAggregated и visitorsAggregated по колонкам 'date', 'group'"
   ]
  },
  {
   "cell_type": "code",
   "execution_count": 78,
   "metadata": {},
   "outputs": [],
   "source": [
    "cumulativeData = ordersAggregated.merge(visitorsAggregated, left_on=['date', 'group'], right_on=['date', 'group'])"
   ]
  },
  {
   "cell_type": "code",
   "execution_count": 79,
   "metadata": {},
   "outputs": [
    {
     "data": {
      "text/html": [
       "<div>\n",
       "<style scoped>\n",
       "    .dataframe tbody tr th:only-of-type {\n",
       "        vertical-align: middle;\n",
       "    }\n",
       "\n",
       "    .dataframe tbody tr th {\n",
       "        vertical-align: top;\n",
       "    }\n",
       "\n",
       "    .dataframe thead th {\n",
       "        text-align: right;\n",
       "    }\n",
       "</style>\n",
       "<table border=\"1\" class=\"dataframe\">\n",
       "  <thead>\n",
       "    <tr style=\"text-align: right;\">\n",
       "      <th></th>\n",
       "      <th>date</th>\n",
       "      <th>group</th>\n",
       "      <th>orders</th>\n",
       "      <th>buyers</th>\n",
       "      <th>revenue</th>\n",
       "      <th>visitors</th>\n",
       "    </tr>\n",
       "  </thead>\n",
       "  <tbody>\n",
       "    <tr>\n",
       "      <th>0</th>\n",
       "      <td>2019-08-01</td>\n",
       "      <td>A</td>\n",
       "      <td>23</td>\n",
       "      <td>19</td>\n",
       "      <td>142779</td>\n",
       "      <td>719</td>\n",
       "    </tr>\n",
       "    <tr>\n",
       "      <th>1</th>\n",
       "      <td>2019-08-01</td>\n",
       "      <td>B</td>\n",
       "      <td>17</td>\n",
       "      <td>17</td>\n",
       "      <td>59758</td>\n",
       "      <td>713</td>\n",
       "    </tr>\n",
       "    <tr>\n",
       "      <th>2</th>\n",
       "      <td>2019-08-02</td>\n",
       "      <td>A</td>\n",
       "      <td>42</td>\n",
       "      <td>36</td>\n",
       "      <td>234381</td>\n",
       "      <td>1338</td>\n",
       "    </tr>\n",
       "    <tr>\n",
       "      <th>3</th>\n",
       "      <td>2019-08-02</td>\n",
       "      <td>B</td>\n",
       "      <td>40</td>\n",
       "      <td>39</td>\n",
       "      <td>221801</td>\n",
       "      <td>1294</td>\n",
       "    </tr>\n",
       "    <tr>\n",
       "      <th>4</th>\n",
       "      <td>2019-08-03</td>\n",
       "      <td>A</td>\n",
       "      <td>66</td>\n",
       "      <td>60</td>\n",
       "      <td>346854</td>\n",
       "      <td>1845</td>\n",
       "    </tr>\n",
       "  </tbody>\n",
       "</table>\n",
       "</div>"
      ],
      "text/plain": [
       "        date group  orders  buyers  revenue  visitors\n",
       "0 2019-08-01     A      23      19   142779       719\n",
       "1 2019-08-01     B      17      17    59758       713\n",
       "2 2019-08-02     A      42      36   234381      1338\n",
       "3 2019-08-02     B      40      39   221801      1294\n",
       "4 2019-08-03     A      66      60   346854      1845"
      ]
     },
     "execution_count": 79,
     "metadata": {},
     "output_type": "execute_result"
    }
   ],
   "source": [
    "#Переименуем столбцы\n",
    "cumulativeData.columns = ['date', 'group', 'orders', 'buyers', 'revenue', 'visitors']\n",
    "\n",
    "# посмотрим получившуюся таблицу\n",
    "cumulativeData.head(5)"
   ]
  },
  {
   "cell_type": "markdown",
   "metadata": {},
   "source": [
    "Объявим переменные cumulativeRevenueA и cumulativeRevenueB, в которых сохраним данные о датах, выручке и числе заказов в группах A и B."
   ]
  },
  {
   "cell_type": "code",
   "execution_count": 80,
   "metadata": {},
   "outputs": [
    {
     "data": {
      "image/png": "[encoded data removed]",
      "text/plain": [
       "<Figure size 2000x500 with 1 Axes>"
      ]
     },
     "metadata": {},
     "output_type": "display_data"
    }
   ],
   "source": [
    "# датафрейм с кумулятивным количеством заказов и кумулятивной выручкой по дням в группе А\n",
    "cumulativeRevenueA = cumulativeData[cumulativeData['group']=='A'][['date','revenue', 'orders']]\n",
    "\n",
    "# датафрейм с кумулятивным количеством заказов и кумулятивной выручкой по дням в группе B\n",
    "cumulativeRevenueB = cumulativeData[cumulativeData['group']=='B'][['date','revenue', 'orders']]\n",
    "\n",
    "plt.figure(figsize=(20,5))\n",
    "# Строим график выручки группы А\n",
    "plt.plot(cumulativeRevenueA['date'], cumulativeRevenueA['revenue'], label='A')\n",
    "\n",
    "# Строим график выручки группы B\n",
    "plt.plot(cumulativeRevenueB['date'], cumulativeRevenueB['revenue'], label='B')\n",
    "plt.title('График кумулятивной выручки по группам\\n  ')\n",
    "plt.xlabel('\\nДата')\n",
    "plt.ylabel('Выручка\\n')\n",
    "plt.grid()\n",
    "plt.legend() \n",
    "plt.show()"
   ]
  },
  {
   "cell_type": "markdown",
   "metadata": {},
   "source": [
    "Выручка почти равномерно увеличивается в течение всего теста. Хороший знак.\n",
    "Однако в группе В наблюдается резкий скачек( 2019.08.18). Это может сигнализировать о всплеске числа заказов, либо о появлении очень дорогих заказов в выборке. Такие выбросы нужно проанализировать.\n"
   ]
  },
  {
   "cell_type": "markdown",
   "metadata": {},
   "source": [
    "#### Построем график кумулятивного среднего чека по группам. "
   ]
  },
  {
   "cell_type": "code",
   "execution_count": 81,
   "metadata": {},
   "outputs": [
    {
     "data": {
      "image/png": "[encoded data removed]",
      "text/plain": [
       "<Figure size 2000x500 with 1 Axes>"
      ]
     },
     "metadata": {},
     "output_type": "display_data"
    }
   ],
   "source": [
    "# разделим кумулятивную выручку на кумулятивное число заказов\n",
    "plt.figure(figsize=(20,5))\n",
    "plt.grid()\n",
    "plt.plot(cumulativeRevenueA['date'], cumulativeRevenueA['revenue']/cumulativeRevenueA['orders'], label='A')\n",
    "plt.plot(cumulativeRevenueB['date'], cumulativeRevenueB['revenue']/cumulativeRevenueB['orders'], label='B')\n",
    "plt.title('График кумулятивного среднего чека по группам\\n  ')\n",
    "plt.xlabel('\\nДата')\n",
    "plt.ylabel('Сумма среднего чека\\n')\n",
    "plt.legend()\n",
    "plt.show()"
   ]
  },
  {
   "cell_type": "markdown",
   "metadata": {},
   "source": [
    "График показывает не равномерность среднего чека, есть резкие всплески для группы В"
   ]
  },
  {
   "cell_type": "markdown",
   "metadata": {},
   "source": [
    "#### Построим график относительного изменения кумулятивного среднего чека группы B к группе A"
   ]
  },
  {
   "cell_type": "code",
   "execution_count": 82,
   "metadata": {},
   "outputs": [
    {
     "data": {
      "image/png": "[encoded data removed]",
      "text/plain": [
       "<Figure size 1500x500 with 1 Axes>"
      ]
     },
     "metadata": {},
     "output_type": "display_data"
    }
   ],
   "source": [
    "# собираем данные в одном датафрейме\n",
    "mergedCumulativeRevenue = cumulativeRevenueA.merge(cumulativeRevenueB, left_on='date', right_on='date', how='left', suffixes=['A', 'B'])\n",
    "\n",
    "# cтроим отношение средних чеков\n",
    "plt.figure(figsize=(15,5))\n",
    "plt.grid()\n",
    "plt.plot(mergedCumulativeRevenue['date'], (mergedCumulativeRevenue['revenueB']/mergedCumulativeRevenue['ordersB'])/(mergedCumulativeRevenue['revenueA']/mergedCumulativeRevenue['ordersA'])-1)\n",
    "plt.title('График относительного изменения кумулятивного среднего чека группы B к группе A\\n  ')\n",
    "plt.xlabel('\\nДата')\n",
    "plt.ylabel('Изменение среденего чека \\n')\n",
    "# добавляем ось X\n",
    "plt.axhline(y=0, color='black', linestyle='--') \n",
    "plt.show()"
   ]
  },
  {
   "cell_type": "markdown",
   "metadata": {},
   "source": [
    "В нескольких точках график различия между сегментами резко «скачет». Где-то уж точно спрятались крупные заказы и выбросы!"
   ]
  },
  {
   "cell_type": "markdown",
   "metadata": {},
   "source": [
    "#### Построем график кумулятивного среднего количества заказов на посетителя по группам."
   ]
  },
  {
   "cell_type": "code",
   "execution_count": 83,
   "metadata": {},
   "outputs": [
    {
     "data": {
      "image/png": "[encoded data removed]",
      "text/plain": [
       "<Figure size 2000x500 with 1 Axes>"
      ]
     },
     "metadata": {},
     "output_type": "display_data"
    }
   ],
   "source": [
    "# считаем кумулятивную конверсию\n",
    "cumulativeData['conversion'] = cumulativeData['orders']/cumulativeData['visitors']\n",
    "\n",
    "# отделяем данные по группе A\n",
    "cumulativeDataA = cumulativeData[cumulativeData['group']=='A']\n",
    "\n",
    "# отделяем данные по группе B\n",
    "cumulativeDataB = cumulativeData[cumulativeData['group']=='B']\n",
    "\n",
    "# строим графики\n",
    "plt.figure(figsize=(20,5))\n",
    "plt.plot(cumulativeDataA['date'], cumulativeDataA['conversion'], label='A')\n",
    "plt.plot(cumulativeDataB['date'], cumulativeDataB['conversion'], label='B')\n",
    "plt.legend()\n",
    "plt.title('график кумулятивного среднего количества заказов на посетителя по группам.\\n  ')\n",
    "plt.xlabel('\\nДата')\n",
    "plt.ylabel('Конверсия\\n')\n",
    "# задаем масштаб осей\n",
    "plt.axis([dt.datetime(2019, 8, 1), dt.datetime(2019, 9, 1), 0, 0.05])\n",
    "plt.show()"
   ]
  },
  {
   "cell_type": "markdown",
   "metadata": {},
   "source": [
    "В начале конверсия группы А была выше, но вскоре группа В вышла вперед"
   ]
  },
  {
   "cell_type": "markdown",
   "metadata": {},
   "source": [
    "#### Построем график относительного изменения кумулятивного среднего количества заказов на посетителя группы B к группе A."
   ]
  },
  {
   "cell_type": "code",
   "execution_count": 84,
   "metadata": {},
   "outputs": [
    {
     "data": {
      "image/png": "[encoded data removed]",
      "text/plain": [
       "<Figure size 1500x500 with 1 Axes>"
      ]
     },
     "metadata": {},
     "output_type": "display_data"
    }
   ],
   "source": [
    "mergedCumulativeConversions = cumulativeDataA[['date','conversion']].merge(cumulativeDataB[['date','conversion']], left_on='date', right_on='date', how='left', suffixes=['A', 'B'])\n",
    "plt.figure(figsize=(15,5))\n",
    "plt.grid()\n",
    "plt.plot(mergedCumulativeConversions['date'], mergedCumulativeConversions['conversionB']/mergedCumulativeConversions['conversionA']-1, label=\"Относительный прирост конверсии группы B относительно группы A\")\n",
    "plt.legend()\n",
    "\n",
    "plt.axhline(y=0, color='black', linestyle='--')\n",
    "plt.title('График относительного изменения кумулятивной среднего количества заказов на посетителя группы B к группе A.¶\\n  ')\n",
    "plt.xlabel('\\nДата')\n",
    "plt.ylabel('Относительне изменение конверсии\\n')\n",
    "plt.show()"
   ]
  },
  {
   "cell_type": "markdown",
   "metadata": {},
   "source": [
    "На графике видно резкий скачок кумулятивной среднего количества заказов на посетителя группы B к группе A"
   ]
  },
  {
   "cell_type": "markdown",
   "metadata": {},
   "source": [
    "#### Построем точечный график количества заказов по пользователям."
   ]
  },
  {
   "cell_type": "code",
   "execution_count": 85,
   "metadata": {},
   "outputs": [
    {
     "data": {
      "text/html": [
       "<div>\n",
       "<style scoped>\n",
       "    .dataframe tbody tr th:only-of-type {\n",
       "        vertical-align: middle;\n",
       "    }\n",
       "\n",
       "    .dataframe tbody tr th {\n",
       "        vertical-align: top;\n",
       "    }\n",
       "\n",
       "    .dataframe thead th {\n",
       "        text-align: right;\n",
       "    }\n",
       "</style>\n",
       "<table border=\"1\" class=\"dataframe\">\n",
       "  <thead>\n",
       "    <tr style=\"text-align: right;\">\n",
       "      <th></th>\n",
       "      <th>user_id</th>\n",
       "      <th>orders</th>\n",
       "    </tr>\n",
       "  </thead>\n",
       "  <tbody>\n",
       "    <tr>\n",
       "      <th>908</th>\n",
       "      <td>3967698036</td>\n",
       "      <td>3</td>\n",
       "    </tr>\n",
       "    <tr>\n",
       "      <th>55</th>\n",
       "      <td>249864742</td>\n",
       "      <td>3</td>\n",
       "    </tr>\n",
       "    <tr>\n",
       "      <th>478</th>\n",
       "      <td>2108163459</td>\n",
       "      <td>3</td>\n",
       "    </tr>\n",
       "    <tr>\n",
       "      <th>687</th>\n",
       "      <td>2988190573</td>\n",
       "      <td>3</td>\n",
       "    </tr>\n",
       "    <tr>\n",
       "      <th>890</th>\n",
       "      <td>3908431265</td>\n",
       "      <td>3</td>\n",
       "    </tr>\n",
       "    <tr>\n",
       "      <th>138</th>\n",
       "      <td>611059232</td>\n",
       "      <td>3</td>\n",
       "    </tr>\n",
       "    <tr>\n",
       "      <th>632</th>\n",
       "      <td>2742574263</td>\n",
       "      <td>3</td>\n",
       "    </tr>\n",
       "    <tr>\n",
       "      <th>157</th>\n",
       "      <td>678354126</td>\n",
       "      <td>2</td>\n",
       "    </tr>\n",
       "    <tr>\n",
       "      <th>323</th>\n",
       "      <td>1404560065</td>\n",
       "      <td>2</td>\n",
       "    </tr>\n",
       "    <tr>\n",
       "      <th>452</th>\n",
       "      <td>1985475298</td>\n",
       "      <td>2</td>\n",
       "    </tr>\n",
       "  </tbody>\n",
       "</table>\n",
       "</div>"
      ],
      "text/plain": [
       "        user_id  orders\n",
       "908  3967698036       3\n",
       "55    249864742       3\n",
       "478  2108163459       3\n",
       "687  2988190573       3\n",
       "890  3908431265       3\n",
       "138   611059232       3\n",
       "632  2742574263       3\n",
       "157   678354126       2\n",
       "323  1404560065       2\n",
       "452  1985475298       2"
      ]
     },
     "execution_count": 85,
     "metadata": {},
     "output_type": "execute_result"
    }
   ],
   "source": [
    "ordersByUsers = orders.drop(['group', 'revenue', 'date'], axis=1).groupby('visitorId', as_index=False). \\\n",
    "                                                                        agg({'transactionId' : pd.Series.nunique})\n",
    "\n",
    "ordersByUsers.columns = ['user_id','orders']\n",
    "ordersByUsers.sort_values(by='orders', ascending=False).head(10)"
   ]
  },
  {
   "cell_type": "code",
   "execution_count": 86,
   "metadata": {},
   "outputs": [
    {
     "data": {
      "image/png": "[encoded data removed]",
      "text/plain": [
       "<Figure size 1500x500 with 1 Axes>"
      ]
     },
     "metadata": {},
     "output_type": "display_data"
    }
   ],
   "source": [
    "plt.figure(figsize=(15,5))\n",
    "plt.grid()\n",
    "plt.title('График количества заказов по пользователям\\n  ')\n",
    "plt.xlabel('\\nКол-во пользователей')\n",
    "plt.ylabel('Кол-во заказов\\n')\n",
    "\n",
    "x_values = pd.Series(range(0,len(ordersByUsers)))\n",
    "\n",
    "plt.scatter(x_values, ordersByUsers['orders']) \n",
    "plt.show()"
   ]
  },
  {
   "cell_type": "markdown",
   "metadata": {},
   "source": [
    "Покупателей совершивщих более 3 заказов очень мало, возможно это выбросы. "
   ]
  },
  {
   "cell_type": "markdown",
   "metadata": {},
   "source": [
    "#### Посчитаем 95-й и 99-й перцентили количества заказов на пользователя."
   ]
  },
  {
   "cell_type": "code",
   "execution_count": 87,
   "metadata": {},
   "outputs": [
    {
     "data": {
      "text/plain": [
       "array([1., 2.])"
      ]
     },
     "execution_count": 87,
     "metadata": {},
     "output_type": "execute_result"
    }
   ],
   "source": [
    "np.percentile(ordersByUsers['orders'], [ 95, 99])"
   ]
  },
  {
   "cell_type": "markdown",
   "metadata": {},
   "source": [
    "95% покупателей совершают не более 1й покупки, 99% совершают не более 2х. Все что больше 2 покупок можно не брать в расчет"
   ]
  },
  {
   "cell_type": "markdown",
   "metadata": {},
   "source": [
    "#### Построем точечный график стоимостей заказов."
   ]
  },
  {
   "cell_type": "code",
   "execution_count": 88,
   "metadata": {},
   "outputs": [
    {
     "data": {
      "image/png": "[encoded data removed]",
      "text/plain": [
       "<Figure size 1000x500 with 1 Axes>"
      ]
     },
     "metadata": {},
     "output_type": "display_data"
    }
   ],
   "source": [
    "x_values = pd.Series(range(0,len(orders['revenue'])))\n",
    "plt.figure(figsize=(10,5))\n",
    "plt.grid()\n",
    "plt.title('График стоимостей заказов\\n ')\n",
    "plt.xlabel('\\nКол-во пользователей')\n",
    "plt.ylabel('Стоимость заказа\\n')\n",
    "plt.scatter(x_values, orders['revenue'], alpha=0.5)\n",
    "plt.show()"
   ]
  },
  {
   "cell_type": "markdown",
   "metadata": {},
   "source": [
    "На графике видно явные выбросы искажающие данные, уберем их."
   ]
  },
  {
   "cell_type": "code",
   "execution_count": 89,
   "metadata": {},
   "outputs": [
    {
     "data": {
      "text/plain": [
       "459        50\n",
       "584        50\n",
       "756        50\n",
       "933        60\n",
       "404        70\n",
       "        ...  \n",
       "1099    65710\n",
       "1103    66350\n",
       "743     67990\n",
       "744     86620\n",
       "1136    92550\n",
       "Name: revenue, Length: 1014, dtype: int64"
      ]
     },
     "execution_count": 89,
     "metadata": {},
     "output_type": "execute_result"
    }
   ],
   "source": [
    "#уберем заказы стоимостью выше 200000\n",
    "now_orders = orders[orders['revenue']<=200000]['revenue']\n",
    "now_orders.sort_values()"
   ]
  },
  {
   "cell_type": "code",
   "execution_count": 90,
   "metadata": {},
   "outputs": [
    {
     "data": {
      "image/png": "[encoded data removed]",
      "text/plain": [
       "<Figure size 1500x500 with 1 Axes>"
      ]
     },
     "metadata": {},
     "output_type": "display_data"
    }
   ],
   "source": [
    "xn_values = pd.Series(range(0,len(now_orders)))\n",
    "plt.figure(figsize=(15,5))\n",
    "plt.grid()\n",
    "plt.title('График стоимостей заказов')\n",
    "plt.xlabel('\\nКол-во пользователей')\n",
    "plt.ylabel('Стоимость заказа\\n')\n",
    "plt.scatter(xn_values, now_orders, alpha=0.5)\n",
    "plt.show()"
   ]
  },
  {
   "cell_type": "markdown",
   "metadata": {},
   "source": [
    "Стоимость большинства заказов ниже 40000"
   ]
  },
  {
   "cell_type": "markdown",
   "metadata": {},
   "source": [
    "#### Посчитаем 95-й и 99-й перцентили стоимости заказов. "
   ]
  },
  {
   "cell_type": "code",
   "execution_count": 91,
   "metadata": {},
   "outputs": [
    {
     "data": {
      "text/plain": [
       "array([26785., 53904.])"
      ]
     },
     "execution_count": 91,
     "metadata": {},
     "output_type": "execute_result"
    }
   ],
   "source": [
    "np.percentile(orders['revenue'], [95, 99])"
   ]
  },
  {
   "cell_type": "markdown",
   "metadata": {},
   "source": [
    " у 95% заказов стоимость не выше 26785 , у 99% заказов не выше 53904 Все что выше будем считать аномальными"
   ]
  },
  {
   "cell_type": "markdown",
   "metadata": {},
   "source": [
    "#### Посчитаем статистическую значимость различий в среднем количестве заказов на посетителя между группами по «сырым» данным."
   ]
  },
  {
   "cell_type": "markdown",
   "metadata": {},
   "source": [
    "Сформулируем гипотезы.\n",
    "- Нулевая  H0: различий в среднем количестве заказов на посетителя между руппами A и B по «сырым» данным нет. \n",
    "- Альтернативная  H1: различия  в среднем количестве заказов на посетителя между руппами A и B по «сырым» данным  есть."
   ]
  },
  {
   "cell_type": "markdown",
   "metadata": {},
   "source": [
    "Соберем в общую таблицу все данные по заказам и визитам, добавив кумулятивные показатели"
   ]
  },
  {
   "cell_type": "code",
   "execution_count": 92,
   "metadata": {},
   "outputs": [],
   "source": [
    "visitorsADaily = visitors[visitors['group']=='A'][['date', 'visitors']]\n",
    "visitorsADaily.columns = ['date', 'visitorsPerDateA']\n",
    "\n",
    "visitorsACummulative = visitorsADaily.apply(lambda x: visitorsADaily[visitorsADaily['date'] <= x['date']]. \\\n",
    "                                            agg({'date' : 'max', 'visitorsPerDateA' : 'sum'}), axis=1)\n",
    "visitorsACummulative.columns = ['date', 'visitorsCummulativeA']\n",
    "\n",
    "visitorsBDaily = visitors[visitors['group']=='B'][['date', 'visitors']]\n",
    "visitorsBDaily.columns = ['date', 'visitorsPerDateB']\n",
    "\n",
    "visitorsBCummulative = visitorsBDaily.apply(lambda x: visitorsBDaily[visitorsBDaily['date'] <= x['date']]. \\\n",
    "                                            agg({'date' : 'max', 'visitorsPerDateB' : 'sum'}), axis=1)\n",
    "visitorsBCummulative.columns = ['date', 'visitorsCummulativeB']"
   ]
  },
  {
   "cell_type": "code",
   "execution_count": 93,
   "metadata": {},
   "outputs": [],
   "source": [
    "ordersADaily = orders[orders['group']=='A'][['date', 'transactionId', 'visitorId', 'revenue']]\\\n",
    "    .groupby('date', as_index=False)\\\n",
    "    .agg({'transactionId' : pd.Series.nunique, 'revenue' : 'sum'})\n",
    "ordersADaily.columns = ['date', 'ordersPerDateA', 'revenuePerDateA']\n",
    "\n",
    "ordersACummulative = ordersADaily.apply(\n",
    "    lambda x: \\\n",
    "        ordersADaily[ordersADaily['date'] <= x['date']]\\\n",
    "            .agg({\n",
    "                'date' : 'max',\n",
    "                'ordersPerDateA' : 'sum',\n",
    "                'revenuePerDateA' : 'sum'}), axis=1).sort_values(by=['date'])\n",
    "ordersACummulative.columns = ['date', 'ordersCummulativeA', 'revenueCummulativeA']\n",
    "\n",
    "ordersBDaily = orders[orders['group']=='B'][['date', 'transactionId', 'visitorId', 'revenue']]\\\n",
    "    .groupby('date', as_index=False)\\\n",
    "    .agg({'transactionId' : pd.Series.nunique, 'revenue' : 'sum'})\n",
    "ordersBDaily.columns = ['date', 'ordersPerDateB', 'revenuePerDateB']\n",
    "\n",
    "ordersBCummulative = ordersBDaily.apply(\n",
    "    lambda x: \\\n",
    "        ordersBDaily[ordersBDaily['date'] <= x['date']]\\\n",
    "            .agg({\n",
    "                'date' : 'max',\n",
    "                'ordersPerDateB' : 'sum',\n",
    "                'revenuePerDateB' : 'sum'}), axis=1).sort_values(by=['date'])\n",
    "ordersBCummulative.columns = ['date', 'ordersCummulativeB', 'revenueCummulativeB']"
   ]
  },
  {
   "cell_type": "code",
   "execution_count": 94,
   "metadata": {},
   "outputs": [
    {
     "data": {
      "text/html": [
       "<div>\n",
       "<style scoped>\n",
       "    .dataframe tbody tr th:only-of-type {\n",
       "        vertical-align: middle;\n",
       "    }\n",
       "\n",
       "    .dataframe tbody tr th {\n",
       "        vertical-align: top;\n",
       "    }\n",
       "\n",
       "    .dataframe thead th {\n",
       "        text-align: right;\n",
       "    }\n",
       "</style>\n",
       "<table border=\"1\" class=\"dataframe\">\n",
       "  <thead>\n",
       "    <tr style=\"text-align: right;\">\n",
       "      <th></th>\n",
       "      <th>date</th>\n",
       "      <th>ordersPerDateA</th>\n",
       "      <th>revenuePerDateA</th>\n",
       "      <th>ordersPerDateB</th>\n",
       "      <th>revenuePerDateB</th>\n",
       "      <th>ordersCummulativeA</th>\n",
       "      <th>revenueCummulativeA</th>\n",
       "      <th>ordersCummulativeB</th>\n",
       "      <th>revenueCummulativeB</th>\n",
       "      <th>visitorsPerDateA</th>\n",
       "      <th>visitorsPerDateB</th>\n",
       "      <th>visitorsCummulativeA</th>\n",
       "      <th>visitorsCummulativeB</th>\n",
       "    </tr>\n",
       "  </thead>\n",
       "  <tbody>\n",
       "    <tr>\n",
       "      <th>0</th>\n",
       "      <td>2019-08-01</td>\n",
       "      <td>23</td>\n",
       "      <td>142779</td>\n",
       "      <td>17</td>\n",
       "      <td>59758</td>\n",
       "      <td>23</td>\n",
       "      <td>142779</td>\n",
       "      <td>17</td>\n",
       "      <td>59758</td>\n",
       "      <td>719</td>\n",
       "      <td>713</td>\n",
       "      <td>719</td>\n",
       "      <td>713</td>\n",
       "    </tr>\n",
       "    <tr>\n",
       "      <th>1</th>\n",
       "      <td>2019-08-02</td>\n",
       "      <td>19</td>\n",
       "      <td>91602</td>\n",
       "      <td>23</td>\n",
       "      <td>162043</td>\n",
       "      <td>42</td>\n",
       "      <td>234381</td>\n",
       "      <td>40</td>\n",
       "      <td>221801</td>\n",
       "      <td>619</td>\n",
       "      <td>581</td>\n",
       "      <td>1338</td>\n",
       "      <td>1294</td>\n",
       "    </tr>\n",
       "    <tr>\n",
       "      <th>2</th>\n",
       "      <td>2019-08-03</td>\n",
       "      <td>24</td>\n",
       "      <td>112473</td>\n",
       "      <td>14</td>\n",
       "      <td>67049</td>\n",
       "      <td>66</td>\n",
       "      <td>346854</td>\n",
       "      <td>54</td>\n",
       "      <td>288850</td>\n",
       "      <td>507</td>\n",
       "      <td>509</td>\n",
       "      <td>1845</td>\n",
       "      <td>1803</td>\n",
       "    </tr>\n",
       "    <tr>\n",
       "      <th>3</th>\n",
       "      <td>2019-08-04</td>\n",
       "      <td>11</td>\n",
       "      <td>41176</td>\n",
       "      <td>14</td>\n",
       "      <td>96890</td>\n",
       "      <td>77</td>\n",
       "      <td>388030</td>\n",
       "      <td>68</td>\n",
       "      <td>385740</td>\n",
       "      <td>717</td>\n",
       "      <td>770</td>\n",
       "      <td>2562</td>\n",
       "      <td>2573</td>\n",
       "    </tr>\n",
       "    <tr>\n",
       "      <th>4</th>\n",
       "      <td>2019-08-05</td>\n",
       "      <td>22</td>\n",
       "      <td>86383</td>\n",
       "      <td>21</td>\n",
       "      <td>89908</td>\n",
       "      <td>99</td>\n",
       "      <td>474413</td>\n",
       "      <td>89</td>\n",
       "      <td>475648</td>\n",
       "      <td>756</td>\n",
       "      <td>707</td>\n",
       "      <td>3318</td>\n",
       "      <td>3280</td>\n",
       "    </tr>\n",
       "  </tbody>\n",
       "</table>\n",
       "</div>"
      ],
      "text/plain": [
       "        date  ordersPerDateA  revenuePerDateA  ordersPerDateB  \\\n",
       "0 2019-08-01              23           142779              17   \n",
       "1 2019-08-02              19            91602              23   \n",
       "2 2019-08-03              24           112473              14   \n",
       "3 2019-08-04              11            41176              14   \n",
       "4 2019-08-05              22            86383              21   \n",
       "\n",
       "   revenuePerDateB  ordersCummulativeA  revenueCummulativeA  \\\n",
       "0            59758                  23               142779   \n",
       "1           162043                  42               234381   \n",
       "2            67049                  66               346854   \n",
       "3            96890                  77               388030   \n",
       "4            89908                  99               474413   \n",
       "\n",
       "   ordersCummulativeB  revenueCummulativeB  visitorsPerDateA  \\\n",
       "0                  17                59758               719   \n",
       "1                  40               221801               619   \n",
       "2                  54               288850               507   \n",
       "3                  68               385740               717   \n",
       "4                  89               475648               756   \n",
       "\n",
       "   visitorsPerDateB  visitorsCummulativeA  visitorsCummulativeB  \n",
       "0               713                   719                   713  \n",
       "1               581                  1338                  1294  \n",
       "2               509                  1845                  1803  \n",
       "3               770                  2562                  2573  \n",
       "4               707                  3318                  3280  "
      ]
     },
     "execution_count": 94,
     "metadata": {},
     "output_type": "execute_result"
    }
   ],
   "source": [
    "tabl = ordersADaily.merge(ordersBDaily, left_on='date', right_on='date', how='left')\\\n",
    "    .merge(ordersACummulative, left_on='date', right_on='date', how='left')\\\n",
    "    .merge(ordersBCummulative, left_on='date', right_on='date', how='left')\\\n",
    "    .merge(visitorsADaily, left_on='date', right_on='date', how='left')\\\n",
    "    .merge(visitorsBDaily, left_on='date', right_on='date', how='left')\\\n",
    "    .merge(visitorsACummulative, left_on='date', right_on='date', how='left')\\\n",
    "    .merge(visitorsBCummulative, left_on='date', right_on='date', how='left')\n",
    "tabl.head(5)"
   ]
  },
  {
   "cell_type": "code",
   "execution_count": 95,
   "metadata": {},
   "outputs": [],
   "source": [
    "#создадим переменные ordersByUsersA и ordersByUsersB со столбцами ['userId', 'orders'], где для пользователей, \n",
    "#совершивших хотя бы 1 заказ, будет указано число заказов. \n",
    "\n",
    "ordersByUsersA = (\n",
    "    orders[orders['group'] == 'A']\n",
    "    .groupby('visitorId', as_index=False)\n",
    "    .agg({'transactionId': pd.Series.nunique})\n",
    ")\n",
    "ordersByUsersA.columns = ['userId', 'orders']\n",
    "\n",
    "ordersByUsersB = (\n",
    "    orders[orders['group'] == 'B']\n",
    "    .groupby('visitorId', as_index=False)\n",
    "    .agg({'transactionId': pd.Series.nunique})\n",
    ")\n",
    "ordersByUsersB.columns = ['userId', 'orders'] \n",
    "# Объявите переменные sampleA и sampleB, в которых пользователям с заказами будет соответствовать число заказов пользователя. \n",
    "# А пользователям без заказов — нули.\n",
    "\n",
    "sampleA = pd.concat([ordersByUsersA['orders'],pd.Series(0, index=np.arange(tabl['visitorsPerDateA'].sum() - len(ordersByUsersA['orders'])), name='orders')],axis=0)\n",
    "\n",
    "sampleB = pd.concat([ordersByUsersB['orders'],pd.Series(0, index=np.arange(tabl['visitorsPerDateB'].sum() - len(ordersByUsersB['orders'])), name='orders')],axis=0)\n",
    "\n",
    "\n"
   ]
  },
  {
   "cell_type": "code",
   "execution_count": 96,
   "metadata": {},
   "outputs": [
    {
     "data": {
      "text/plain": [
       "'p-value= 0.011'"
      ]
     },
     "metadata": {},
     "output_type": "display_data"
    },
    {
     "data": {
      "text/plain": [
       "'0.160'"
      ]
     },
     "metadata": {},
     "output_type": "display_data"
    }
   ],
   "source": [
    "display('p-value= '\"{0:.3f}\".format(st.mannwhitneyu(sampleA, sampleB)[1]))\n",
    "\n",
    "display(\"{0:.3f}\".format(sampleB.mean() / sampleA.mean() - 1)) "
   ]
  },
  {
   "cell_type": "markdown",
   "metadata": {},
   "source": [
    " По «сырым» данным различия в среднем числе заказов групп A и B есть. \n",
    "Число — p-value = 0.011 меньше 0.05. Значит, нулевую гипотезу о том, что статистически значимых различий в среднем количестве заказов на посетителя между группами нет, отвергаем.\n",
    "\n",
    "статистически значимые различия в среднем количестве заказов на посетителя между группами есть!"
   ]
  },
  {
   "cell_type": "markdown",
   "metadata": {},
   "source": [
    "#### Посчитаем статистическую значимость различий в среднем чеке заказа между группами по «сырым» данным."
   ]
  },
  {
   "cell_type": "markdown",
   "metadata": {},
   "source": [
    "Сформулируем гипотезы.\n",
    "\n",
    "- Нулевая H0: различий в среднем чеке заказа между группами по «сырым» данным нет.\n",
    "- Альтернативная H1: различия в среднем чеке заказа между группами по «сырым» данным есть."
   ]
  },
  {
   "cell_type": "code",
   "execution_count": 97,
   "metadata": {},
   "outputs": [
    {
     "data": {
      "text/plain": [
       "'p-value= 0.829'"
      ]
     },
     "metadata": {},
     "output_type": "display_data"
    },
    {
     "data": {
      "text/plain": [
       "'0.287'"
      ]
     },
     "metadata": {},
     "output_type": "display_data"
    }
   ],
   "source": [
    "display('p-value= ''{0:.3f}'.format(st.mannwhitneyu(orders[orders['group']=='A']['revenue'], orders[orders['group']=='B']['revenue'])[1]))\n",
    "display('{0:.3f}'.format(orders[orders['group']=='B']['revenue'].mean()/orders[orders['group']=='A']['revenue'].mean()-1)) "
   ]
  },
  {
   "cell_type": "markdown",
   "metadata": {},
   "source": [
    "По «сырым» данным различий в среднем числе заказов групп A и B нет. \n",
    "число — p-value = 0.729 больше 0.05. Значит, нулевую гипотезу о том, что статистически значимых различий в среднем чеке заказов между группами нет, не отвергаем. но при этом средний чек группы B значительно выше среднего чека группы A 28,7%  наблюдаемое различие в 28,7% не является стат. значимым."
   ]
  },
  {
   "cell_type": "markdown",
   "metadata": {},
   "source": [
    "#### Посчитаем статистическую значимость различий в среднем количестве заказов на посетителя между группами по «очищенным» данным."
   ]
  },
  {
   "cell_type": "markdown",
   "metadata": {},
   "source": [
    " Уберем аномальные значения из данных.\n",
    "Примем за аномальных пользователей тех, кто совершил от 4 заказов или совершил заказ дороже 58233 рублей."
   ]
  },
  {
   "cell_type": "code",
   "execution_count": 98,
   "metadata": {},
   "outputs": [],
   "source": [
    "# Сделаем срезы пользователей с числом заказов больше 2 — usersWithManyOrders и пользователей, совершивших заказы дороже 53904 — usersWithExpensiveOrders. \n",
    "# Объединим их в таблице abnormalUsers. \n",
    "usersWithManyOrders = pd.concat(\n",
    "    [\n",
    "        ordersByUsersA[ordersByUsersA['orders'] > 2]['userId'],\n",
    "        ordersByUsersB[ordersByUsersB['orders'] > 2]['userId'],\n",
    "    ],\n",
    "    axis=0,\n",
    ")\n",
    "usersWithExpensiveOrders = orders[orders['revenue'] > 53904]['visitorId']\n",
    "abnormalUsers = (\n",
    "    pd.concat([usersWithManyOrders, usersWithExpensiveOrders], axis=0)\n",
    "    .drop_duplicates()\n",
    "    .sort_values()\n",
    ")\n"
   ]
  },
  {
   "cell_type": "code",
   "execution_count": 99,
   "metadata": {},
   "outputs": [
    {
     "data": {
      "text/plain": [
       "1099    148427295\n",
       "33      249864742\n",
       "58      611059232\n",
       "949     887908475\n",
       "744     888512513\n",
       "dtype: int64"
      ]
     },
     "execution_count": 99,
     "metadata": {},
     "output_type": "execute_result"
    }
   ],
   "source": [
    "# Узнаем, сколько всего аномальных пользователей \n",
    "abnormalUsers.shape[0]\n",
    "abnormalUsers.head(5)"
   ]
  },
  {
   "cell_type": "markdown",
   "metadata": {},
   "source": [
    "Всего 14 аномальных пользователей. \n",
    "Узнаем, как их действия повлияли на результаты теста. Посчитаем статистическую значимость различий в среднем количестве заказов между группами теста по очищенным данным. "
   ]
  },
  {
   "cell_type": "code",
   "execution_count": 100,
   "metadata": {},
   "outputs": [],
   "source": [
    "# Сначала подготовим выборки количества заказов по пользователям по группам теста:\n",
    "sampleAFiltered = pd.concat(\n",
    "    [\n",
    "        ordersByUsersA[\n",
    "            np.logical_not(ordersByUsersA['userId'].isin(abnormalUsers))\n",
    "        ]['orders'],\n",
    "        pd.Series(\n",
    "            0,\n",
    "            index=np.arange(\n",
    "                tabl['visitorsPerDateA'].sum() - len(ordersByUsersA['orders'])\n",
    "            ),\n",
    "            name='orders',\n",
    "        ),\n",
    "    ],\n",
    "    axis=0,\n",
    ")\n",
    "\n",
    "sampleBFiltered = pd.concat(\n",
    "    [\n",
    "        ordersByUsersB[\n",
    "            np.logical_not(ordersByUsersB['userId'].isin(abnormalUsers))\n",
    "        ]['orders'],\n",
    "        pd.Series(\n",
    "            0,\n",
    "            index=np.arange(\n",
    "                tabl['visitorsPerDateB'].sum() - len(ordersByUsersB['orders'])\n",
    "            ),\n",
    "            name='orders',\n",
    "        ),\n",
    "    ],\n",
    "    axis=0,\n",
    ") "
   ]
  },
  {
   "cell_type": "code",
   "execution_count": 101,
   "metadata": {},
   "outputs": [
    {
     "data": {
      "text/plain": [
       "'p-value= 0.007'"
      ]
     },
     "metadata": {},
     "output_type": "display_data"
    },
    {
     "data": {
      "text/plain": [
       "'0.189'"
      ]
     },
     "metadata": {},
     "output_type": "display_data"
    }
   ],
   "source": [
    "# Применим статистический критерий Манна-Уитни к полученным выборкам:\n",
    "display('p-value= ''{0:.3f}'.format(st.mannwhitneyu(sampleAFiltered, sampleBFiltered)[1]))\n",
    "display('{0:.3f}'.format(sampleBFiltered.mean()/sampleAFiltered.mean()-1)) "
   ]
  },
  {
   "cell_type": "markdown",
   "metadata": {},
   "source": [
    " Результаты по среднему количеству заказов немного изменились. Относительный выигрыш группы \"B\" над \"A\" равен почти 19% (выше, чем с «сырыми» данными )"
   ]
  },
  {
   "cell_type": "markdown",
   "metadata": {},
   "source": [
    "#### Посчитаем статистическую значимость различий в среднем чеке заказа между группами по «очищенным» данным."
   ]
  },
  {
   "cell_type": "code",
   "execution_count": 102,
   "metadata": {},
   "outputs": [
    {
     "data": {
      "text/plain": [
       "'p-value= 0.788'"
      ]
     },
     "metadata": {},
     "output_type": "display_data"
    },
    {
     "data": {
      "text/plain": [
       "'-0.032'"
      ]
     },
     "metadata": {},
     "output_type": "display_data"
    }
   ],
   "source": [
    "display('p-value= '\n",
    "    '{0:.3f}'.format(\n",
    "        st.mannwhitneyu(\n",
    "            orders[\n",
    "                np.logical_and(\n",
    "                    orders['group'] == 'A',\n",
    "                    np.logical_not(orders['visitorId'].isin(abnormalUsers)),\n",
    "                )\n",
    "            ]['revenue'],\n",
    "            orders[\n",
    "                np.logical_and(\n",
    "                    orders['group'] == 'B',\n",
    "                    np.logical_not(orders['visitorId'].isin(abnormalUsers)),\n",
    "                )\n",
    "            ]['revenue'],\n",
    "        )[1]\n",
    "    )\n",
    ")\n",
    "\n",
    "display(\n",
    "    \"{0:.3f}\".format(\n",
    "        orders[\n",
    "            np.logical_and(\n",
    "                orders['group'] == 'B',\n",
    "                np.logical_not(orders['visitorId'].isin(abnormalUsers)),\n",
    "            )\n",
    "        ]['revenue'].mean()\n",
    "        / orders[\n",
    "            np.logical_and(\n",
    "                orders['group'] == 'A',\n",
    "                np.logical_not(orders['visitorId'].isin(abnormalUsers)),\n",
    "            )\n",
    "        ]['revenue'].mean()\n",
    "        - 1\n",
    "    )\n",
    ") "
   ]
  },
  {
   "cell_type": "markdown",
   "metadata": {},
   "source": [
    "Средний чек группы В ниже среднего чека группы A на (-3%) в то врмя как по \"сырым\" данным он был выше  на 28%.\n",
    "Разница в 3% не является статистически значимой.\n",
    "\n",
    "P-value увеличился, зачительно  больше 0,05.\n",
    "Общие выводы по результатам теста не изменились, статистической значимости различий в среднем чеке заказа между группами по «очищенным» данным, нет.\n",
    " \n"
   ]
  },
  {
   "cell_type": "markdown",
   "metadata": {},
   "source": [
    "#### Примим решение по результатам теста"
   ]
  },
  {
   "cell_type": "markdown",
   "metadata": {},
   "source": [
    "Мы выяснили, что стат.значимой разницы между группами А и В по среднему чеку нет, следовательно при выросшем количестве заказов с сохранившимся средним чеком выручка будет расти! \n",
    "А статистическая значимость между группами А и В по количеству заказов есть и по сырым и по очищенным дынным.\n",
    "\n",
    "### Вывод:\n",
    "Основываясь на результатах проведенного А/В теста, рекомендую остановить тест и зафиксировать победу группы В \n",
    "У группы В  среднее количесто заказов на посетителя по «очищенным» данным выше чем у группы А на 18,9%"
   ]
  }
 ],
 "metadata": {
  "ExecuteTimeLog": [
   {
    "duration": 1555,
    "start_time": "2023-04-01T15:03:26.774Z"
   },
   {
    "duration": 55,
    "start_time": "2023-04-01T15:08:29.086Z"
   },
   {
    "duration": 56,
    "start_time": "2023-04-01T15:08:33.439Z"
   },
   {
    "duration": 110,
    "start_time": "2023-04-01T15:08:47.920Z"
   },
   {
    "duration": 241,
    "start_time": "2023-04-01T15:10:06.861Z"
   },
   {
    "duration": 151,
    "start_time": "2023-04-01T15:10:27.425Z"
   },
   {
    "duration": 103,
    "start_time": "2023-04-01T15:11:07.277Z"
   },
   {
    "duration": 4,
    "start_time": "2023-04-01T15:11:25.574Z"
   },
   {
    "duration": 17,
    "start_time": "2023-04-01T15:11:35.135Z"
   },
   {
    "duration": 12,
    "start_time": "2023-04-01T15:13:23.264Z"
   },
   {
    "duration": 13,
    "start_time": "2023-04-01T15:13:32.466Z"
   },
   {
    "duration": 13,
    "start_time": "2023-04-01T15:13:46.066Z"
   },
   {
    "duration": 15,
    "start_time": "2023-04-01T15:13:54.984Z"
   },
   {
    "duration": 3,
    "start_time": "2023-04-01T15:14:00.387Z"
   },
   {
    "duration": 15,
    "start_time": "2023-04-01T15:14:01.015Z"
   },
   {
    "duration": 12,
    "start_time": "2023-04-01T15:14:28.120Z"
   },
   {
    "duration": 15,
    "start_time": "2023-04-01T15:14:39.271Z"
   },
   {
    "duration": 90,
    "start_time": "2023-04-01T15:17:10.217Z"
   },
   {
    "duration": 104,
    "start_time": "2023-04-01T17:57:33.588Z"
   },
   {
    "duration": 64,
    "start_time": "2023-04-01T17:58:01.030Z"
   },
   {
    "duration": 55,
    "start_time": "2023-04-01T18:00:17.690Z"
   },
   {
    "duration": 5,
    "start_time": "2023-04-01T18:00:29.035Z"
   },
   {
    "duration": 5,
    "start_time": "2023-04-01T18:00:31.813Z"
   },
   {
    "duration": 8,
    "start_time": "2023-04-01T18:01:01.885Z"
   },
   {
    "duration": 3,
    "start_time": "2023-04-01T18:01:53.376Z"
   },
   {
    "duration": 4,
    "start_time": "2023-04-01T18:03:09.986Z"
   },
   {
    "duration": 16,
    "start_time": "2023-04-01T18:07:47.458Z"
   },
   {
    "duration": 13,
    "start_time": "2023-04-01T18:08:20.247Z"
   },
   {
    "duration": 13,
    "start_time": "2023-04-01T18:09:03.712Z"
   },
   {
    "duration": 10,
    "start_time": "2023-04-01T18:09:08.495Z"
   },
   {
    "duration": 18,
    "start_time": "2023-04-01T18:09:11.534Z"
   },
   {
    "duration": 12,
    "start_time": "2023-04-01T18:12:25.030Z"
   },
   {
    "duration": 61,
    "start_time": "2023-04-01T18:18:34.913Z"
   },
   {
    "duration": 3,
    "start_time": "2023-04-01T18:19:29.357Z"
   },
   {
    "duration": 1132,
    "start_time": "2023-04-01T20:22:43.725Z"
   },
   {
    "duration": 183,
    "start_time": "2023-04-01T20:22:44.859Z"
   },
   {
    "duration": 2,
    "start_time": "2023-04-01T20:22:45.044Z"
   },
   {
    "duration": 14,
    "start_time": "2023-04-01T20:22:45.048Z"
   },
   {
    "duration": 65,
    "start_time": "2023-04-01T20:22:45.215Z"
   },
   {
    "duration": 5,
    "start_time": "2023-04-01T20:22:45.427Z"
   },
   {
    "duration": 3,
    "start_time": "2023-04-01T20:22:45.597Z"
   },
   {
    "duration": 10,
    "start_time": "2023-04-01T20:22:46.606Z"
   },
   {
    "duration": 10,
    "start_time": "2023-04-01T20:22:46.937Z"
   },
   {
    "duration": 9,
    "start_time": "2023-04-01T20:22:47.325Z"
   },
   {
    "duration": 6,
    "start_time": "2023-04-01T20:23:57.348Z"
   },
   {
    "duration": 129,
    "start_time": "2023-04-01T20:24:52.542Z"
   },
   {
    "duration": 145,
    "start_time": "2023-04-01T20:27:08.294Z"
   },
   {
    "duration": 139,
    "start_time": "2023-04-01T20:27:55.165Z"
   },
   {
    "duration": 102,
    "start_time": "2023-04-01T20:29:07.930Z"
   },
   {
    "duration": 85,
    "start_time": "2023-04-01T20:30:18.518Z"
   },
   {
    "duration": 7,
    "start_time": "2023-04-01T20:30:57.031Z"
   },
   {
    "duration": 9,
    "start_time": "2023-04-01T20:31:20.144Z"
   },
   {
    "duration": 10,
    "start_time": "2023-04-01T20:31:41.117Z"
   },
   {
    "duration": 210,
    "start_time": "2023-04-01T20:35:20.997Z"
   },
   {
    "duration": 150,
    "start_time": "2023-04-01T20:35:56.094Z"
   },
   {
    "duration": 3,
    "start_time": "2023-04-01T20:38:13.406Z"
   },
   {
    "duration": 178,
    "start_time": "2023-04-01T20:38:39.220Z"
   },
   {
    "duration": 209,
    "start_time": "2023-04-01T20:39:00.718Z"
   },
   {
    "duration": 235,
    "start_time": "2023-04-01T20:41:16.706Z"
   },
   {
    "duration": 191,
    "start_time": "2023-04-01T20:43:06.217Z"
   },
   {
    "duration": 195,
    "start_time": "2023-04-01T20:43:14.341Z"
   },
   {
    "duration": 259,
    "start_time": "2023-04-01T20:43:19.561Z"
   },
   {
    "duration": 221,
    "start_time": "2023-04-01T20:43:26.396Z"
   },
   {
    "duration": 326,
    "start_time": "2023-04-01T20:46:29.302Z"
   },
   {
    "duration": 10,
    "start_time": "2023-04-01T20:46:33.916Z"
   },
   {
    "duration": 242,
    "start_time": "2023-04-01T20:48:17.202Z"
   },
   {
    "duration": 339,
    "start_time": "2023-04-01T20:48:58.359Z"
   },
   {
    "duration": 189,
    "start_time": "2023-04-01T20:54:56.206Z"
   },
   {
    "duration": 2,
    "start_time": "2023-04-01T20:57:40.449Z"
   },
   {
    "duration": 203,
    "start_time": "2023-04-01T21:09:52.402Z"
   },
   {
    "duration": 208,
    "start_time": "2023-04-01T21:10:44.710Z"
   },
   {
    "duration": 192,
    "start_time": "2023-04-01T21:11:21.802Z"
   },
   {
    "duration": 182,
    "start_time": "2023-04-01T21:11:40.611Z"
   },
   {
    "duration": 214,
    "start_time": "2023-04-01T21:11:51.330Z"
   },
   {
    "duration": 229,
    "start_time": "2023-04-01T21:12:09.046Z"
   },
   {
    "duration": 315,
    "start_time": "2023-04-01T21:12:47.806Z"
   },
   {
    "duration": 250,
    "start_time": "2023-04-01T21:16:33.786Z"
   },
   {
    "duration": 297,
    "start_time": "2023-04-01T21:17:48.702Z"
   },
   {
    "duration": 281,
    "start_time": "2023-04-01T21:17:59.560Z"
   },
   {
    "duration": 288,
    "start_time": "2023-04-01T21:18:25.115Z"
   },
   {
    "duration": 293,
    "start_time": "2023-04-01T21:18:58.990Z"
   },
   {
    "duration": 394,
    "start_time": "2023-04-01T21:19:12.720Z"
   },
   {
    "duration": 274,
    "start_time": "2023-04-01T21:19:23.902Z"
   },
   {
    "duration": 293,
    "start_time": "2023-04-01T21:19:30.877Z"
   },
   {
    "duration": 283,
    "start_time": "2023-04-01T21:19:41.507Z"
   },
   {
    "duration": 253,
    "start_time": "2023-04-01T21:19:48.290Z"
   },
   {
    "duration": 234,
    "start_time": "2023-04-01T21:19:55.598Z"
   },
   {
    "duration": 272,
    "start_time": "2023-04-01T21:22:05.226Z"
   },
   {
    "duration": 401,
    "start_time": "2023-04-01T21:22:32.539Z"
   },
   {
    "duration": 180,
    "start_time": "2023-04-01T21:23:09.737Z"
   },
   {
    "duration": 321,
    "start_time": "2023-04-01T21:24:34.658Z"
   },
   {
    "duration": 89,
    "start_time": "2023-04-01T21:25:37.628Z"
   },
   {
    "duration": 10,
    "start_time": "2023-04-01T21:29:25.786Z"
   },
   {
    "duration": 94,
    "start_time": "2023-04-01T21:30:34.119Z"
   },
   {
    "duration": 108,
    "start_time": "2023-04-01T21:31:07.422Z"
   },
   {
    "duration": 1336,
    "start_time": "2023-04-02T19:45:33.932Z"
   },
   {
    "duration": 219,
    "start_time": "2023-04-02T19:45:35.270Z"
   },
   {
    "duration": 3,
    "start_time": "2023-04-02T19:45:35.491Z"
   },
   {
    "duration": 44,
    "start_time": "2023-04-02T19:45:35.496Z"
   },
   {
    "duration": 85,
    "start_time": "2023-04-02T19:45:35.542Z"
   },
   {
    "duration": 6,
    "start_time": "2023-04-02T19:45:35.629Z"
   },
   {
    "duration": 7,
    "start_time": "2023-04-02T19:45:35.636Z"
   },
   {
    "duration": 22,
    "start_time": "2023-04-02T19:45:35.645Z"
   },
   {
    "duration": 12,
    "start_time": "2023-04-02T19:45:35.989Z"
   },
   {
    "duration": 10,
    "start_time": "2023-04-02T19:45:36.420Z"
   },
   {
    "duration": 6,
    "start_time": "2023-04-02T19:45:37.610Z"
   },
   {
    "duration": 167,
    "start_time": "2023-04-02T19:45:38.020Z"
   },
   {
    "duration": 120,
    "start_time": "2023-04-02T19:45:38.639Z"
   },
   {
    "duration": 6,
    "start_time": "2023-04-02T19:45:39.098Z"
   },
   {
    "duration": 10,
    "start_time": "2023-04-02T19:45:39.262Z"
   },
   {
    "duration": 303,
    "start_time": "2023-04-02T19:45:39.697Z"
   },
   {
    "duration": 232,
    "start_time": "2023-04-02T19:45:40.561Z"
   },
   {
    "duration": 381,
    "start_time": "2023-04-02T19:45:41.217Z"
   },
   {
    "duration": 261,
    "start_time": "2023-04-02T19:45:41.827Z"
   },
   {
    "duration": 348,
    "start_time": "2023-04-02T19:45:42.458Z"
   },
   {
    "duration": 133,
    "start_time": "2023-04-02T19:45:43.049Z"
   },
   {
    "duration": 11,
    "start_time": "2023-04-02T20:07:22.466Z"
   },
   {
    "duration": 159,
    "start_time": "2023-04-02T20:08:35.893Z"
   },
   {
    "duration": 8,
    "start_time": "2023-04-02T20:08:37.891Z"
   },
   {
    "duration": 120,
    "start_time": "2023-04-02T20:09:10.940Z"
   },
   {
    "duration": 111,
    "start_time": "2023-04-02T20:09:46.531Z"
   },
   {
    "duration": 118,
    "start_time": "2023-04-02T20:10:00.542Z"
   },
   {
    "duration": 222,
    "start_time": "2023-04-02T20:11:10.616Z"
   },
   {
    "duration": 5,
    "start_time": "2023-04-02T20:14:01.089Z"
   },
   {
    "duration": 5,
    "start_time": "2023-04-02T20:14:20.211Z"
   },
   {
    "duration": 58,
    "start_time": "2023-04-02T20:17:13.183Z"
   },
   {
    "duration": 2,
    "start_time": "2023-04-02T20:17:43.742Z"
   },
   {
    "duration": 173,
    "start_time": "2023-04-02T20:19:15.202Z"
   },
   {
    "duration": 15,
    "start_time": "2023-04-02T20:23:01.192Z"
   },
   {
    "duration": 255,
    "start_time": "2023-04-02T20:25:04.906Z"
   },
   {
    "duration": 163,
    "start_time": "2023-04-02T20:26:36.612Z"
   },
   {
    "duration": 151,
    "start_time": "2023-04-02T20:26:43.323Z"
   },
   {
    "duration": 167,
    "start_time": "2023-04-02T20:26:50.188Z"
   },
   {
    "duration": 160,
    "start_time": "2023-04-02T20:26:56.987Z"
   },
   {
    "duration": 154,
    "start_time": "2023-04-02T20:27:02.255Z"
   },
   {
    "duration": 4,
    "start_time": "2023-04-02T20:28:39.814Z"
   },
   {
    "duration": 7,
    "start_time": "2023-04-02T20:28:48.932Z"
   },
   {
    "duration": 8,
    "start_time": "2023-04-02T20:29:06.985Z"
   },
   {
    "duration": 100,
    "start_time": "2023-04-02T20:29:44.452Z"
   },
   {
    "duration": 145,
    "start_time": "2023-04-02T20:29:53.350Z"
   },
   {
    "duration": 194,
    "start_time": "2023-04-02T20:30:04.757Z"
   },
   {
    "duration": 172,
    "start_time": "2023-04-02T20:30:26.037Z"
   },
   {
    "duration": 2,
    "start_time": "2023-04-02T20:31:43.453Z"
   },
   {
    "duration": 5,
    "start_time": "2023-04-02T20:32:05.972Z"
   },
   {
    "duration": 550,
    "start_time": "2023-04-02T20:32:52.384Z"
   },
   {
    "duration": 5,
    "start_time": "2023-04-02T20:33:35.412Z"
   },
   {
    "duration": 89,
    "start_time": "2023-04-02T20:40:17.495Z"
   },
   {
    "duration": 117,
    "start_time": "2023-04-02T20:40:31.435Z"
   },
   {
    "duration": 28,
    "start_time": "2023-04-02T20:40:54.696Z"
   },
   {
    "duration": 32,
    "start_time": "2023-04-02T20:41:02.672Z"
   },
   {
    "duration": 31,
    "start_time": "2023-04-02T20:41:38.454Z"
   },
   {
    "duration": 32,
    "start_time": "2023-04-02T20:41:48.264Z"
   },
   {
    "duration": 20,
    "start_time": "2023-04-02T20:44:46.412Z"
   },
   {
    "duration": 21,
    "start_time": "2023-04-02T20:45:36.123Z"
   },
   {
    "duration": 17,
    "start_time": "2023-04-02T20:46:32.352Z"
   },
   {
    "duration": 141,
    "start_time": "2023-04-02T20:47:16.513Z"
   },
   {
    "duration": 168,
    "start_time": "2023-04-02T20:51:35.760Z"
   },
   {
    "duration": 170,
    "start_time": "2023-04-02T20:52:31.693Z"
   },
   {
    "duration": 1119,
    "start_time": "2023-04-03T10:47:38.895Z"
   },
   {
    "duration": 231,
    "start_time": "2023-04-03T10:47:40.016Z"
   },
   {
    "duration": 3,
    "start_time": "2023-04-03T10:47:40.248Z"
   },
   {
    "duration": 21,
    "start_time": "2023-04-03T10:47:40.252Z"
   },
   {
    "duration": 81,
    "start_time": "2023-04-03T10:47:40.274Z"
   },
   {
    "duration": 5,
    "start_time": "2023-04-03T10:47:40.356Z"
   },
   {
    "duration": 3,
    "start_time": "2023-04-03T10:47:40.390Z"
   },
   {
    "duration": 10,
    "start_time": "2023-04-03T10:47:41.238Z"
   },
   {
    "duration": 10,
    "start_time": "2023-04-03T10:47:41.959Z"
   },
   {
    "duration": 8,
    "start_time": "2023-04-03T10:47:42.415Z"
   },
   {
    "duration": 5,
    "start_time": "2023-04-03T10:47:43.879Z"
   },
   {
    "duration": 132,
    "start_time": "2023-04-03T10:47:44.325Z"
   },
   {
    "duration": 102,
    "start_time": "2023-04-03T10:47:44.768Z"
   },
   {
    "duration": 5,
    "start_time": "2023-04-03T10:47:45.189Z"
   },
   {
    "duration": 7,
    "start_time": "2023-04-03T10:47:45.388Z"
   },
   {
    "duration": 260,
    "start_time": "2023-04-03T10:47:45.800Z"
   },
   {
    "duration": 189,
    "start_time": "2023-04-03T10:47:46.416Z"
   },
   {
    "duration": 355,
    "start_time": "2023-04-03T10:47:47.327Z"
   },
   {
    "duration": 179,
    "start_time": "2023-04-03T10:47:47.986Z"
   },
   {
    "duration": 309,
    "start_time": "2023-04-03T10:47:48.839Z"
   },
   {
    "duration": 119,
    "start_time": "2023-04-03T10:47:49.502Z"
   },
   {
    "duration": 146,
    "start_time": "2023-04-03T10:47:49.715Z"
   },
   {
    "duration": 5,
    "start_time": "2023-04-03T10:47:50.626Z"
   },
   {
    "duration": 181,
    "start_time": "2023-04-03T10:47:51.347Z"
   },
   {
    "duration": 6,
    "start_time": "2023-04-03T10:47:52.026Z"
   },
   {
    "duration": 163,
    "start_time": "2023-04-03T10:47:52.265Z"
   },
   {
    "duration": 5,
    "start_time": "2023-04-03T10:47:53.187Z"
   },
   {
    "duration": 72,
    "start_time": "2023-04-03T10:47:54.385Z"
   },
   {
    "duration": 115,
    "start_time": "2023-04-03T10:47:54.632Z"
   },
   {
    "duration": 25,
    "start_time": "2023-04-03T10:47:54.867Z"
   },
   {
    "duration": 118,
    "start_time": "2023-04-03T10:47:55.734Z"
   },
   {
    "duration": 100,
    "start_time": "2023-04-03T10:56:58.687Z"
   },
   {
    "duration": 123,
    "start_time": "2023-04-03T10:57:01.436Z"
   },
   {
    "duration": 7,
    "start_time": "2023-04-03T10:57:02.252Z"
   },
   {
    "duration": 21,
    "start_time": "2023-04-03T10:59:05.173Z"
   },
   {
    "duration": 139,
    "start_time": "2023-04-03T11:03:35.098Z"
   },
   {
    "duration": 25,
    "start_time": "2023-04-03T11:04:12.317Z"
   },
   {
    "duration": 55,
    "start_time": "2023-04-03T11:09:54.296Z"
   },
   {
    "duration": 12,
    "start_time": "2023-04-03T11:10:16.095Z"
   },
   {
    "duration": 53,
    "start_time": "2023-04-03T11:23:47.951Z"
   },
   {
    "duration": 1325,
    "start_time": "2023-04-03T11:31:07.688Z"
   },
   {
    "duration": 149,
    "start_time": "2023-04-03T11:32:08.639Z"
   },
   {
    "duration": 27,
    "start_time": "2023-04-03T11:32:09.275Z"
   },
   {
    "duration": 13,
    "start_time": "2023-04-03T11:32:10.769Z"
   },
   {
    "duration": 1972,
    "start_time": "2023-04-03T11:32:12.167Z"
   },
   {
    "duration": 7,
    "start_time": "2023-04-03T11:33:12.984Z"
   },
   {
    "duration": 4,
    "start_time": "2023-04-03T11:33:50.726Z"
   },
   {
    "duration": 5,
    "start_time": "2023-04-03T11:34:15.081Z"
   },
   {
    "duration": 10,
    "start_time": "2023-04-03T11:35:29.529Z"
   },
   {
    "duration": 9,
    "start_time": "2023-04-03T11:35:59.139Z"
   },
   {
    "duration": 6,
    "start_time": "2023-04-03T11:36:12.723Z"
   },
   {
    "duration": 8,
    "start_time": "2023-04-03T11:36:53.569Z"
   },
   {
    "duration": 22,
    "start_time": "2023-04-03T11:37:26.308Z"
   },
   {
    "duration": 20,
    "start_time": "2023-04-03T11:40:24.565Z"
   },
   {
    "duration": 18,
    "start_time": "2023-04-03T11:41:21.430Z"
   },
   {
    "duration": 11,
    "start_time": "2023-04-03T11:42:09.116Z"
   },
   {
    "duration": 28,
    "start_time": "2023-04-03T11:42:59.070Z"
   },
   {
    "duration": 34,
    "start_time": "2023-04-03T11:43:34.527Z"
   },
   {
    "duration": 15,
    "start_time": "2023-04-03T11:45:19.784Z"
   },
   {
    "duration": 2356,
    "start_time": "2023-04-03T11:45:28.389Z"
   },
   {
    "duration": 15,
    "start_time": "2023-04-03T11:46:52.415Z"
   },
   {
    "duration": 50,
    "start_time": "2023-04-03T12:10:48.474Z"
   },
   {
    "duration": 19,
    "start_time": "2023-04-03T12:11:08.802Z"
   },
   {
    "duration": 1475,
    "start_time": "2023-04-03T16:08:18.237Z"
   },
   {
    "duration": 197,
    "start_time": "2023-04-03T16:08:19.714Z"
   },
   {
    "duration": 3,
    "start_time": "2023-04-03T16:08:19.912Z"
   },
   {
    "duration": 28,
    "start_time": "2023-04-03T16:08:19.916Z"
   },
   {
    "duration": 158,
    "start_time": "2023-04-03T16:08:19.945Z"
   },
   {
    "duration": 5,
    "start_time": "2023-04-03T16:08:20.105Z"
   },
   {
    "duration": 13,
    "start_time": "2023-04-03T16:08:20.111Z"
   },
   {
    "duration": 64,
    "start_time": "2023-04-03T16:08:20.126Z"
   },
   {
    "duration": 12,
    "start_time": "2023-04-03T16:08:20.191Z"
   },
   {
    "duration": 39,
    "start_time": "2023-04-03T16:08:20.205Z"
   },
   {
    "duration": 43,
    "start_time": "2023-04-03T16:08:20.246Z"
   },
   {
    "duration": 313,
    "start_time": "2023-04-03T16:08:20.291Z"
   },
   {
    "duration": 170,
    "start_time": "2023-04-03T16:08:20.606Z"
   },
   {
    "duration": 7,
    "start_time": "2023-04-03T16:08:20.789Z"
   },
   {
    "duration": 22,
    "start_time": "2023-04-03T16:08:20.797Z"
   },
   {
    "duration": 300,
    "start_time": "2023-04-03T16:08:20.820Z"
   },
   {
    "duration": 220,
    "start_time": "2023-04-03T16:08:21.122Z"
   },
   {
    "duration": 326,
    "start_time": "2023-04-03T16:08:21.344Z"
   },
   {
    "duration": 209,
    "start_time": "2023-04-03T16:08:21.672Z"
   },
   {
    "duration": 339,
    "start_time": "2023-04-03T16:08:21.882Z"
   },
   {
    "duration": 140,
    "start_time": "2023-04-03T16:08:22.222Z"
   },
   {
    "duration": 158,
    "start_time": "2023-04-03T16:08:22.364Z"
   },
   {
    "duration": 4,
    "start_time": "2023-04-03T16:08:22.524Z"
   },
   {
    "duration": 173,
    "start_time": "2023-04-03T16:08:22.530Z"
   },
   {
    "duration": 6,
    "start_time": "2023-04-03T16:08:22.705Z"
   },
   {
    "duration": 253,
    "start_time": "2023-04-03T16:08:22.713Z"
   },
   {
    "duration": 5,
    "start_time": "2023-04-03T16:08:22.968Z"
   },
   {
    "duration": 82,
    "start_time": "2023-04-03T16:08:22.976Z"
   },
   {
    "duration": 109,
    "start_time": "2023-04-03T16:08:23.060Z"
   },
   {
    "duration": 33,
    "start_time": "2023-04-03T16:08:23.171Z"
   },
   {
    "duration": 137,
    "start_time": "2023-04-03T16:08:23.206Z"
   },
   {
    "duration": 24,
    "start_time": "2023-04-03T16:08:23.344Z"
   },
   {
    "duration": 23,
    "start_time": "2023-04-03T16:08:23.370Z"
   },
   {
    "duration": 6,
    "start_time": "2023-04-03T16:08:23.395Z"
   },
   {
    "duration": 20,
    "start_time": "2023-04-03T16:08:23.403Z"
   },
   {
    "duration": 12,
    "start_time": "2023-04-03T16:08:23.425Z"
   },
   {
    "duration": 34,
    "start_time": "2023-04-03T16:08:23.438Z"
   },
   {
    "duration": 20,
    "start_time": "2023-04-03T16:08:23.474Z"
   },
   {
    "duration": 13,
    "start_time": "2023-04-03T16:08:23.496Z"
   },
   {
    "duration": 1578,
    "start_time": "2023-04-04T10:58:06.977Z"
   },
   {
    "duration": 177,
    "start_time": "2023-04-04T10:58:08.557Z"
   },
   {
    "duration": 4,
    "start_time": "2023-04-04T10:58:08.736Z"
   },
   {
    "duration": 16,
    "start_time": "2023-04-04T10:58:09.809Z"
   },
   {
    "duration": 82,
    "start_time": "2023-04-04T10:58:10.037Z"
   },
   {
    "duration": 6,
    "start_time": "2023-04-04T10:58:11.323Z"
   },
   {
    "duration": 4,
    "start_time": "2023-04-04T10:58:12.509Z"
   },
   {
    "duration": 17,
    "start_time": "2023-04-04T10:58:15.540Z"
   },
   {
    "duration": 13,
    "start_time": "2023-04-04T10:58:18.003Z"
   },
   {
    "duration": 11,
    "start_time": "2023-04-04T10:58:19.001Z"
   },
   {
    "duration": 80,
    "start_time": "2023-04-04T10:59:42.490Z"
   },
   {
    "duration": 11,
    "start_time": "2023-04-04T10:59:50.890Z"
   },
   {
    "duration": 10,
    "start_time": "2023-04-04T11:00:08.978Z"
   },
   {
    "duration": 5,
    "start_time": "2023-04-04T11:00:47.325Z"
   },
   {
    "duration": 6,
    "start_time": "2023-04-04T11:00:53.966Z"
   },
   {
    "duration": 183,
    "start_time": "2023-04-04T11:00:55.081Z"
   },
   {
    "duration": 146,
    "start_time": "2023-04-04T11:00:55.981Z"
   },
   {
    "duration": 7,
    "start_time": "2023-04-04T11:00:56.749Z"
   },
   {
    "duration": 14,
    "start_time": "2023-04-04T11:00:57.174Z"
   },
   {
    "duration": 382,
    "start_time": "2023-04-04T11:00:58.181Z"
   },
   {
    "duration": 263,
    "start_time": "2023-04-04T11:01:09.977Z"
   },
   {
    "duration": 396,
    "start_time": "2023-04-04T11:01:12.875Z"
   },
   {
    "duration": 307,
    "start_time": "2023-04-04T11:01:15.140Z"
   },
   {
    "duration": 381,
    "start_time": "2023-04-04T11:01:18.071Z"
   },
   {
    "duration": 460,
    "start_time": "2023-04-04T11:05:14.700Z"
   },
   {
    "duration": 369,
    "start_time": "2023-04-04T11:06:37.487Z"
   },
   {
    "duration": 471,
    "start_time": "2023-04-04T11:06:59.699Z"
   },
   {
    "duration": 79,
    "start_time": "2023-04-04T11:08:16.238Z"
   },
   {
    "duration": 410,
    "start_time": "2023-04-04T11:08:47.367Z"
   },
   {
    "duration": 375,
    "start_time": "2023-04-04T11:08:59.799Z"
   },
   {
    "duration": 179,
    "start_time": "2023-04-04T11:09:24.135Z"
   },
   {
    "duration": 405,
    "start_time": "2023-04-04T11:09:32.478Z"
   },
   {
    "duration": 181,
    "start_time": "2023-04-04T11:09:34.846Z"
   },
   {
    "duration": 189,
    "start_time": "2023-04-04T11:09:36.139Z"
   },
   {
    "duration": 6,
    "start_time": "2023-04-04T11:09:39.180Z"
   },
   {
    "duration": 239,
    "start_time": "2023-04-04T11:12:07.276Z"
   },
   {
    "duration": 11,
    "start_time": "2023-04-04T11:12:09.897Z"
   },
   {
    "duration": 277,
    "start_time": "2023-04-04T11:12:11.526Z"
   },
   {
    "duration": 6,
    "start_time": "2023-04-04T11:12:20.865Z"
   },
   {
    "duration": 111,
    "start_time": "2023-04-04T11:13:01.310Z"
   },
   {
    "duration": 120,
    "start_time": "2023-04-04T11:13:01.926Z"
   },
   {
    "duration": 35,
    "start_time": "2023-04-04T11:13:02.714Z"
   },
   {
    "duration": 127,
    "start_time": "2023-04-04T11:13:03.524Z"
   },
   {
    "duration": 28,
    "start_time": "2023-04-04T11:13:04.223Z"
   },
   {
    "duration": 30,
    "start_time": "2023-04-04T11:13:43.039Z"
   },
   {
    "duration": 27,
    "start_time": "2023-04-04T11:13:52.279Z"
   },
   {
    "duration": 14,
    "start_time": "2023-04-04T11:15:01.824Z"
   },
   {
    "duration": 15,
    "start_time": "2023-04-04T11:15:14.339Z"
   },
   {
    "duration": 78,
    "start_time": "2023-04-04T11:17:38.417Z"
   },
   {
    "duration": 12,
    "start_time": "2023-04-04T11:18:07.687Z"
   },
   {
    "duration": 5,
    "start_time": "2023-04-04T11:18:08.256Z"
   },
   {
    "duration": 10,
    "start_time": "2023-04-04T11:18:08.979Z"
   },
   {
    "duration": 33,
    "start_time": "2023-04-04T11:18:08.991Z"
   },
   {
    "duration": 26,
    "start_time": "2023-04-04T11:18:09.542Z"
   },
   {
    "duration": 17,
    "start_time": "2023-04-04T11:18:10.038Z"
   },
   {
    "duration": 27,
    "start_time": "2023-04-04T11:22:12.129Z"
   },
   {
    "duration": 26,
    "start_time": "2023-04-04T11:22:13.933Z"
   },
   {
    "duration": 18,
    "start_time": "2023-04-04T11:22:16.783Z"
   },
   {
    "duration": 20,
    "start_time": "2023-04-04T11:22:23.763Z"
   },
   {
    "duration": 5,
    "start_time": "2023-04-04T11:26:08.095Z"
   },
   {
    "duration": 61,
    "start_time": "2023-04-04T11:26:08.348Z"
   },
   {
    "duration": 3,
    "start_time": "2023-04-04T11:26:09.011Z"
   },
   {
    "duration": 13,
    "start_time": "2023-04-04T11:26:09.095Z"
   },
   {
    "duration": 100,
    "start_time": "2023-04-04T11:26:09.293Z"
   },
   {
    "duration": 6,
    "start_time": "2023-04-04T11:26:09.497Z"
   },
   {
    "duration": 3,
    "start_time": "2023-04-04T11:26:09.700Z"
   },
   {
    "duration": 12,
    "start_time": "2023-04-04T11:26:10.501Z"
   },
   {
    "duration": 16,
    "start_time": "2023-04-04T11:26:11.112Z"
   },
   {
    "duration": 14,
    "start_time": "2023-04-04T11:26:11.497Z"
   },
   {
    "duration": 13,
    "start_time": "2023-04-04T11:26:14.298Z"
   },
   {
    "duration": 6,
    "start_time": "2023-04-04T11:26:14.749Z"
   },
   {
    "duration": 8,
    "start_time": "2023-04-04T11:26:16.343Z"
   },
   {
    "duration": 188,
    "start_time": "2023-04-04T11:26:17.326Z"
   },
   {
    "duration": 152,
    "start_time": "2023-04-04T11:26:17.819Z"
   },
   {
    "duration": 7,
    "start_time": "2023-04-04T11:26:18.695Z"
   },
   {
    "duration": 10,
    "start_time": "2023-04-04T11:26:19.129Z"
   },
   {
    "duration": 257,
    "start_time": "2023-04-04T11:26:19.598Z"
   },
   {
    "duration": 372,
    "start_time": "2023-04-04T11:26:20.825Z"
   },
   {
    "duration": 319,
    "start_time": "2023-04-04T11:26:21.641Z"
   },
   {
    "duration": 347,
    "start_time": "2023-04-04T11:26:22.723Z"
   },
   {
    "duration": 368,
    "start_time": "2023-04-04T11:26:24.101Z"
   },
   {
    "duration": 212,
    "start_time": "2023-04-04T11:26:27.829Z"
   },
   {
    "duration": 186,
    "start_time": "2023-04-04T11:26:28.060Z"
   },
   {
    "duration": 6,
    "start_time": "2023-04-04T11:26:30.079Z"
   },
   {
    "duration": 172,
    "start_time": "2023-04-04T11:26:34.759Z"
   },
   {
    "duration": 9,
    "start_time": "2023-04-04T11:26:37.046Z"
   },
   {
    "duration": 187,
    "start_time": "2023-04-04T11:26:38.674Z"
   },
   {
    "duration": 6,
    "start_time": "2023-04-04T11:26:42.924Z"
   },
   {
    "duration": 97,
    "start_time": "2023-04-04T11:26:51.995Z"
   },
   {
    "duration": 140,
    "start_time": "2023-04-04T11:26:52.594Z"
   },
   {
    "duration": 33,
    "start_time": "2023-04-04T11:26:53.130Z"
   },
   {
    "duration": 146,
    "start_time": "2023-04-04T11:26:53.493Z"
   },
   {
    "duration": 27,
    "start_time": "2023-04-04T11:26:53.859Z"
   },
   {
    "duration": 14,
    "start_time": "2023-04-04T11:27:18.793Z"
   },
   {
    "duration": 10,
    "start_time": "2023-04-04T11:28:17.685Z"
   },
   {
    "duration": 7,
    "start_time": "2023-04-04T11:28:24.510Z"
   },
   {
    "duration": 12,
    "start_time": "2023-04-04T11:28:26.181Z"
   },
   {
    "duration": 29,
    "start_time": "2023-04-04T11:28:27.088Z"
   },
   {
    "duration": 19,
    "start_time": "2023-04-04T11:28:56.587Z"
   },
   {
    "duration": 74,
    "start_time": "2023-04-04T11:34:45.707Z"
   },
   {
    "duration": 4,
    "start_time": "2023-04-04T11:35:00.430Z"
   },
   {
    "duration": 62,
    "start_time": "2023-04-04T11:35:00.589Z"
   },
   {
    "duration": 3,
    "start_time": "2023-04-04T11:35:00.819Z"
   },
   {
    "duration": 14,
    "start_time": "2023-04-04T11:35:00.997Z"
   },
   {
    "duration": 111,
    "start_time": "2023-04-04T11:35:01.184Z"
   },
   {
    "duration": 7,
    "start_time": "2023-04-04T11:35:01.363Z"
   },
   {
    "duration": 4,
    "start_time": "2023-04-04T11:35:01.543Z"
   },
   {
    "duration": 12,
    "start_time": "2023-04-04T11:35:02.280Z"
   },
   {
    "duration": 11,
    "start_time": "2023-04-04T11:35:02.808Z"
   },
   {
    "duration": 11,
    "start_time": "2023-04-04T11:35:03.398Z"
   },
   {
    "duration": 10,
    "start_time": "2023-04-04T11:35:09.731Z"
   },
   {
    "duration": 5,
    "start_time": "2023-04-04T11:35:15.094Z"
   },
   {
    "duration": 6,
    "start_time": "2023-04-04T11:35:16.192Z"
   },
   {
    "duration": 174,
    "start_time": "2023-04-04T11:35:16.749Z"
   },
   {
    "duration": 131,
    "start_time": "2023-04-04T11:35:17.119Z"
   },
   {
    "duration": 11,
    "start_time": "2023-04-04T11:35:17.672Z"
   },
   {
    "duration": 11,
    "start_time": "2023-04-04T11:35:17.861Z"
   },
   {
    "duration": 239,
    "start_time": "2023-04-04T11:35:18.233Z"
   },
   {
    "duration": 260,
    "start_time": "2023-04-04T11:35:19.016Z"
   },
   {
    "duration": 296,
    "start_time": "2023-04-04T11:35:19.827Z"
   },
   {
    "duration": 238,
    "start_time": "2023-04-04T11:35:20.706Z"
   },
   {
    "duration": 372,
    "start_time": "2023-04-04T11:35:21.552Z"
   },
   {
    "duration": 152,
    "start_time": "2023-04-04T11:35:22.962Z"
   },
   {
    "duration": 188,
    "start_time": "2023-04-04T11:35:23.159Z"
   },
   {
    "duration": 6,
    "start_time": "2023-04-04T11:35:23.783Z"
   },
   {
    "duration": 261,
    "start_time": "2023-04-04T11:35:24.565Z"
   },
   {
    "duration": 8,
    "start_time": "2023-04-04T11:35:25.179Z"
   },
   {
    "duration": 186,
    "start_time": "2023-04-04T11:35:25.389Z"
   },
   {
    "duration": 7,
    "start_time": "2023-04-04T11:35:26.015Z"
   },
   {
    "duration": 121,
    "start_time": "2023-04-04T11:35:27.799Z"
   },
   {
    "duration": 142,
    "start_time": "2023-04-04T11:35:27.984Z"
   },
   {
    "duration": 32,
    "start_time": "2023-04-04T11:35:28.178Z"
   },
   {
    "duration": 154,
    "start_time": "2023-04-04T11:35:28.387Z"
   },
   {
    "duration": 41,
    "start_time": "2023-04-04T11:35:28.580Z"
   },
   {
    "duration": 13,
    "start_time": "2023-04-04T11:35:31.443Z"
   },
   {
    "duration": 10,
    "start_time": "2023-04-04T11:35:32.886Z"
   },
   {
    "duration": 5,
    "start_time": "2023-04-04T11:35:33.383Z"
   },
   {
    "duration": 9,
    "start_time": "2023-04-04T11:35:33.819Z"
   },
   {
    "duration": 29,
    "start_time": "2023-04-04T11:35:34.023Z"
   },
   {
    "duration": 15,
    "start_time": "2023-04-04T11:35:34.896Z"
   },
   {
    "duration": 1187,
    "start_time": "2023-04-04T16:24:18.761Z"
   },
   {
    "duration": 180,
    "start_time": "2023-04-04T16:24:19.949Z"
   },
   {
    "duration": 2,
    "start_time": "2023-04-04T16:24:20.131Z"
   },
   {
    "duration": 17,
    "start_time": "2023-04-04T16:24:20.135Z"
   },
   {
    "duration": 70,
    "start_time": "2023-04-04T16:24:20.153Z"
   },
   {
    "duration": 7,
    "start_time": "2023-04-04T16:24:20.224Z"
   },
   {
    "duration": 36,
    "start_time": "2023-04-04T16:24:20.233Z"
   },
   {
    "duration": 12,
    "start_time": "2023-04-04T16:24:20.270Z"
   },
   {
    "duration": 10,
    "start_time": "2023-04-04T16:24:20.283Z"
   },
   {
    "duration": 10,
    "start_time": "2023-04-04T16:24:20.295Z"
   },
   {
    "duration": 11,
    "start_time": "2023-04-04T16:24:20.306Z"
   },
   {
    "duration": 3,
    "start_time": "2023-04-04T16:24:20.319Z"
   },
   {
    "duration": 20,
    "start_time": "2023-04-04T16:24:20.323Z"
   },
   {
    "duration": 171,
    "start_time": "2023-04-04T16:24:20.344Z"
   },
   {
    "duration": 114,
    "start_time": "2023-04-04T16:24:20.516Z"
   },
   {
    "duration": 5,
    "start_time": "2023-04-04T16:24:20.632Z"
   },
   {
    "duration": 8,
    "start_time": "2023-04-04T16:24:20.638Z"
   },
   {
    "duration": 288,
    "start_time": "2023-04-04T16:24:20.647Z"
   },
   {
    "duration": 249,
    "start_time": "2023-04-04T16:24:20.937Z"
   },
   {
    "duration": 283,
    "start_time": "2023-04-04T16:24:21.188Z"
   },
   {
    "duration": 198,
    "start_time": "2023-04-04T16:24:21.473Z"
   },
   {
    "duration": 310,
    "start_time": "2023-04-04T16:24:21.673Z"
   },
   {
    "duration": 124,
    "start_time": "2023-04-04T16:24:21.984Z"
   },
   {
    "duration": 158,
    "start_time": "2023-04-04T16:24:22.110Z"
   },
   {
    "duration": 4,
    "start_time": "2023-04-04T16:24:22.270Z"
   },
   {
    "duration": 149,
    "start_time": "2023-04-04T16:24:22.276Z"
   },
   {
    "duration": 7,
    "start_time": "2023-04-04T16:24:22.427Z"
   },
   {
    "duration": 277,
    "start_time": "2023-04-04T16:24:22.440Z"
   },
   {
    "duration": 4,
    "start_time": "2023-04-04T16:24:22.718Z"
   },
   {
    "duration": 98,
    "start_time": "2023-04-04T16:24:22.724Z"
   },
   {
    "duration": 110,
    "start_time": "2023-04-04T16:24:22.824Z"
   },
   {
    "duration": 36,
    "start_time": "2023-04-04T16:24:22.936Z"
   },
   {
    "duration": 132,
    "start_time": "2023-04-04T16:24:22.973Z"
   },
   {
    "duration": 20,
    "start_time": "2023-04-04T16:24:23.107Z"
   },
   {
    "duration": 10,
    "start_time": "2023-04-04T16:24:23.128Z"
   },
   {
    "duration": 31,
    "start_time": "2023-04-04T16:24:23.139Z"
   },
   {
    "duration": 10,
    "start_time": "2023-04-04T16:24:23.172Z"
   },
   {
    "duration": 8,
    "start_time": "2023-04-04T16:24:23.183Z"
   },
   {
    "duration": 25,
    "start_time": "2023-04-04T16:24:23.192Z"
   },
   {
    "duration": 14,
    "start_time": "2023-04-04T16:24:23.218Z"
   }
  ],
  "kernelspec": {
   "display_name": "Python 3 (ipykernel)",
   "language": "python",
   "name": "python3"
  },
  "language_info": {
   "codemirror_mode": {
    "name": "ipython",
    "version": 3
   },
   "file_extension": ".py",
   "mimetype": "text/x-python",
   "name": "python",
   "nbconvert_exporter": "python",
   "pygments_lexer": "ipython3",
   "version": "3.10.9"
  },
  "toc": {
   "base_numbering": 1,
   "nav_menu": {},
   "number_sections": true,
   "sideBar": true,
   "skip_h1_title": true,
   "title_cell": "Table of Contents",
   "title_sidebar": "Contents",
   "toc_cell": false,
   "toc_position": {
    "height": "calc(100% - 180px)",
    "left": "10px",
    "top": "150px",
    "width": "277.5px"
   },
   "toc_section_display": true,
   "toc_window_display": true
  }
 },
 "nbformat": 4,
 "nbformat_minor": 2
}
